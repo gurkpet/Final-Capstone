{
 "cells": [
  {
   "cell_type": "code",
   "execution_count": 1,
   "metadata": {
    "collapsed": true
   },
   "outputs": [],
   "source": [
    "import requests\n",
    "from lxml import html\n",
    "import pandas as pd\n",
    "import urllib.request, json \n",
    "import time"
   ]
  },
  {
   "cell_type": "code",
   "execution_count": 111,
   "metadata": {
    "collapsed": true
   },
   "outputs": [],
   "source": [
    "allzipcodes = pd.read_csv('us_postal_codes.csv')\n",
    "# allzipcodes['Zip'] = allzipcodes['Zip'].apply(lambda x : int(x))\n",
    "allzipcodes['Zip Code'] = allzipcodes['Zip Code'].apply(lambda x : str(x))\n",
    "allzipcodes['Zip Code'] = allzipcodes['Zip Code'].apply(lambda x : '0' + x if len(x) == 4 else x)\n",
    "allzipcodes['Zip Code'] = allzipcodes['Zip Code'].apply(lambda x : '00' + x if len(x) == 3 else x)\n",
    "zipcodes = allzipcodes['Zip Code']"
   ]
  },
  {
   "cell_type": "code",
   "execution_count": 142,
   "metadata": {},
   "outputs": [
    {
     "name": "stdout",
     "output_type": "stream",
     "text": [
      "558 of 559 zipcodes processed: 62777\r"
     ]
    }
   ],
   "source": [
    "apikey = 'DKkJxZXvzKMZ1BDNPY1zgKA1b7oNLe82q72X8Tbt'\n",
    "solar_radiation = []\n",
    "codes = []\n",
    "for i, zipcode in enumerate(zipcodesx):\n",
    "    this_url = 'https://developer.nrel.gov/api/solar/solar_resource/v1.json?api_key='+apikey+'&address='+zipcode\n",
    "    with urllib.request.urlopen(this_url) as url:\n",
    "        data = json.loads(url.read().decode())\n",
    "    \n",
    "    \n",
    "    print(\"{} of {} zipcodes processed: {}\".format(i+1, len(zipcodes), zipcode), end = '\\r')\n",
    "    if 'annual' in data['outputs']['avg_dni']:\n",
    "        solar_radiation.append(data['outputs']['avg_dni']['annual'])\n",
    "    else:\n",
    "        solar_radiation.append('error')\n",
    "    codes.append(zipcode)\n",
    "    \n",
    "    if ((i+1) % 900) == 0:\n",
    "        #Rest for 1 hour\n",
    "        print('Resting for 1 hour before continuing, currently on zipcode no. {}'.format(i), end = '\\r')\n",
    "        time.sleep(3600) \n",
    "        \n",
    "df = pd.DataFrame()\n",
    "df['zipcode'] = codes\n",
    "df['solar_radiation'] = solar_radiation\n",
    "df.to_csv('Scraped_Solar_Data4.csv', index = False, header = True)"
   ]
  },
  {
   "cell_type": "code",
   "execution_count": 141,
   "metadata": {},
   "outputs": [],
   "source": [
    "zipcodesx = list(zipcodes)\n",
    "zipcodesx = zipcodesx[1:]"
   ]
  },
  {
   "cell_type": "code",
   "execution_count": null,
   "metadata": {
    "collapsed": true
   },
   "outputs": [],
   "source": []
  },
  {
   "cell_type": "code",
   "execution_count": 73,
   "metadata": {},
   "outputs": [],
   "source": [
    "df = pd.DataFrame()\n",
    "df['zipcode'] = codes\n",
    "df['solar_radiation'] = solar_radiation\n",
    "df.to_csv('Scraped_Solar_Data4.csv', index = False, header = True)"
   ]
  },
  {
   "cell_type": "code",
   "execution_count": 138,
   "metadata": {},
   "outputs": [
    {
     "data": {
      "text/plain": [
       "set"
      ]
     },
     "execution_count": 138,
     "metadata": {},
     "output_type": "execute_result"
    }
   ],
   "source": [
    "type(zipcodes)"
   ]
  },
  {
   "cell_type": "code",
   "execution_count": 21,
   "metadata": {},
   "outputs": [],
   "source": [
    "df= df[df.solar_radiation != 'error']"
   ]
  },
  {
   "cell_type": "code",
   "execution_count": 22,
   "metadata": {},
   "outputs": [
    {
     "data": {
      "image/png": "[encoded data removed]",
      "text/plain": [
       "<matplotlib.figure.Figure at 0x7ff9b6c77860>"
      ]
     },
     "metadata": {},
     "output_type": "display_data"
    }
   ],
   "source": [
    "import matplotlib.pyplot as plt\n",
    "plt.hist(df.solar_radiation)\n",
    "plt.show()"
   ]
  },
  {
   "cell_type": "code",
   "execution_count": 60,
   "metadata": {
    "collapsed": true
   },
   "outputs": [],
   "source": []
  },
  {
   "cell_type": "code",
   "execution_count": 77,
   "metadata": {},
   "outputs": [],
   "source": [
    "cfile = pd.read_csv('Scraped_Solar_Data.csv')\n",
    "cfile['zipcode'] = cfile['zipcode'].apply(lambda x : str(x))\n",
    "cfile['zipcode'] = cfile['zipcode'].apply(lambda x : '0' + x if len(x) == 4 else x)\n",
    "cfile['zipcode'] = cfile['zipcode'].apply(lambda x : '00' + x if len(x) == 3 else x)\n",
    "c = cfile['zipcode']"
   ]
  },
  {
   "cell_type": "code",
   "execution_count": 78,
   "metadata": {
    "collapsed": true
   },
   "outputs": [],
   "source": [
    "dfile = pd.read_csv('Scraped_Solar_Data2.csv')\n",
    "dfile['zipcode'] = dfile['zipcode'].apply(lambda x : str(x))\n",
    "dfile['zipcode'] = dfile['zipcode'].apply(lambda x : '0' + x if len(x) == 4 else x)\n",
    "dfile['zipcode'] = dfile['zipcode'].apply(lambda x : '00' + x if len(x) == 3 else x)\n",
    "d = dfile['zipcode']"
   ]
  },
  {
   "cell_type": "code",
   "execution_count": 115,
   "metadata": {
    "collapsed": true
   },
   "outputs": [],
   "source": [
    "efile = pd.read_csv('Scraped_Solar_Data3.csv')\n",
    "efile['zipcode'] = efile['zipcode'].apply(lambda x : str(x))\n",
    "efile['zipcode'] = efile['zipcode'].apply(lambda x : '0' + x if len(x) == 4 else x)\n",
    "efile['zipcode'] = efile['zipcode'].apply(lambda x : '00' + x if len(x) == 3 else x)\n",
    "d = efile['zipcode']"
   ]
  },
  {
   "cell_type": "code",
   "execution_count": 143,
   "metadata": {
    "collapsed": true
   },
   "outputs": [],
   "source": [
    "result = pd.concat([cfile,dfile,efile, df])"
   ]
  },
  {
   "cell_type": "code",
   "execution_count": 147,
   "metadata": {},
   "outputs": [],
   "source": [
    "result.to_csv('Solar_Radiation_by_zip.csv', header = True, index = False)"
   ]
  },
  {
   "cell_type": "code",
   "execution_count": 104,
   "metadata": {},
   "outputs": [],
   "source": [
    "justprocessed = df.zipcode.tolist()#.extend(dfile.zipcode)\n",
    "#processed = (processed.tolist)#.extend(cfile.zipcode)\n",
    "#processed"
   ]
  },
  {
   "cell_type": "code",
   "execution_count": 109,
   "metadata": {},
   "outputs": [],
   "source": [
    "#justprocessed.extend(dfile.zipcode)\n",
    "justprocessed.extend(cfile.zipcode)"
   ]
  },
  {
   "cell_type": "code",
   "execution_count": 110,
   "metadata": {},
   "outputs": [
    {
     "data": {
      "text/plain": [
       "40417"
      ]
     },
     "execution_count": 110,
     "metadata": {},
     "output_type": "execute_result"
    }
   ],
   "source": [
    "len(justprocessed)"
   ]
  },
  {
   "cell_type": "code",
   "execution_count": 113,
   "metadata": {},
   "outputs": [],
   "source": [
    "#a = zipcodes\n",
    "#itemsToRemove = df.zipcode\n",
    "zipcodes = set(zipcodes).difference(justprocessed)"
   ]
  },
  {
   "cell_type": "code",
   "execution_count": 84,
   "metadata": {},
   "outputs": [
    {
     "data": {
      "text/plain": [
       "28392"
      ]
     },
     "execution_count": 84,
     "metadata": {},
     "output_type": "execute_result"
    }
   ],
   "source": [
    "len(b)  +len(df.zipcode)"
   ]
  },
  {
   "cell_type": "code",
   "execution_count": 69,
   "metadata": {},
   "outputs": [
    {
     "data": {
      "text/plain": [
       "9748"
      ]
     },
     "execution_count": 69,
     "metadata": {},
     "output_type": "execute_result"
    }
   ],
   "source": [
    "len(zipcodes)"
   ]
  },
  {
   "cell_type": "code",
   "execution_count": null,
   "metadata": {
    "collapsed": true
   },
   "outputs": [],
   "source": []
  }
 ],
 "metadata": {
  "kernelspec": {
   "display_name": "Python [conda root]",
   "language": "python",
   "name": "conda-root-py"
  },
  "language_info": {
   "codemirror_mode": {
    "name": "ipython",
    "version": 3
   },
   "file_extension": ".py",
   "mimetype": "text/x-python",
   "name": "python",
   "nbconvert_exporter": "python",
   "pygments_lexer": "ipython3",
   "version": "3.5.3"
  }
 },
 "nbformat": 4,
 "nbformat_minor": 2
}
