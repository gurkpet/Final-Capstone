{
 "cells": [
  {
   "cell_type": "code",
   "execution_count": 1,
   "metadata": {},
   "outputs": [],
   "source": [
    "import pandas as pd\n",
    "from sklearn.ensemble import GradientBoostingClassifier, RandomForestClassifier\n",
    "from sklearn.model_selection import cross_val_score, train_test_split, KFold\n",
    "import matplotlib.pyplot as plt\n",
    "from tabulate import tabulate\n",
    "import math\n",
    "from scipy.stats import boxcox\n",
    "import seaborn as sns\n",
    "import gmplot\n",
    "from sklearn.metrics import classification_report, confusion_matrix, r2_score, accuracy_score\n",
    "from sklearn.linear_model import LogisticRegression\n",
    "from sklearn.metrics import auc, roc_auc_score"
   ]
  },
  {
   "cell_type": "code",
   "execution_count": 2,
   "metadata": {
    "collapsed": true
   },
   "outputs": [],
   "source": [
    "#read in the target data\n",
    "#link: https://www.kaggle.com/jboysen/google-project-sunroof\n",
    "solar_data = pd.read_csv('Solar Data/project-sunroof-postal_code-09082017.csv')\n",
    "solar_data.drop(0, inplace = True)\n",
    "#convert the column containing postal codes from str to int\n",
    "solar_data['region_name'] = solar_data['region_name'].apply(lambda x : int(x))"
   ]
  },
  {
   "cell_type": "code",
   "execution_count": 3,
   "metadata": {},
   "outputs": [],
   "source": [
    "#read in the median home value data\n",
    "#link: http://files.zillowstatic.com/research/public/Zip/Zip_Zhvi_Summary_AllHomes.csv\n",
    "homevalue = pd.read_csv('Solar Data/Zip_Zhvi_Summary_AllHomes.csv')\n",
    "homevalue = homevalue[['RegionName', 'Zhvi']]"
   ]
  },
  {
   "cell_type": "code",
   "execution_count": 4,
   "metadata": {
    "collapsed": true
   },
   "outputs": [],
   "source": [
    "#read in census data\n",
    "#scraped from Census.gov see other notebook\n",
    "census = pd.read_csv('scraped_from_census.csv')\n",
    "census = census[['zipcode', 'population','medianage', 'medianincome','pctownocc']]\n",
    "#merge target data with census data\n",
    "census_solar = solar_data[['region_name','existing_installs_count']].merge(census, left_on = 'region_name', right_on = 'zipcode', how = 'inner')\n",
    "#merge in home value data with other data\n",
    "census_solar_home = census_solar.merge(homevalue, left_on = 'zipcode', right_on = 'RegionName', how = 'inner')\n",
    "#read in solar radiation data\n",
    "#scraped from nrel see other notebook\n",
    "solar_rad = pd.read_csv('Solar_Radiation_by_zip.csv')\n",
    "#drop the rows where the solar data was not available\n",
    "solar_rad = solar_rad[solar_rad.solar_radiation !=  'error']\n",
    "#merge solar radiation data in to the rest of the data\n",
    "census_solar_home_rad = census_solar_home.merge(solar_rad,on = 'zipcode', how = 'inner')"
   ]
  },
  {
   "cell_type": "code",
   "execution_count": 5,
   "metadata": {
    "collapsed": true
   },
   "outputs": [],
   "source": [
    "#trim the unneeded columns from the data\n",
    "census_solar_home_rad= census_solar_home_rad[['zipcode',  'population',\n",
    "       'medianage', 'medianincome', 'pctownocc', 'Zhvi',\n",
    "       'solar_radiation','existing_installs_count']]\n",
    "#convert solarion radiation data from str to float\n",
    "census_solar_home_rad['solar_radiation'] = census_solar_home_rad['solar_radiation'] .apply(lambda x : float(x))\n",
    "#rename all the combined data as data\n",
    "data = census_solar_home_rad"
   ]
  },
  {
   "cell_type": "markdown",
   "metadata": {},
   "source": [
    "First we need to establish a target feature.  We'll call that per_capita and calculate it as number of installs for every 100 people in a given geographic area (zip code)"
   ]
  },
  {
   "cell_type": "code",
   "execution_count": 6,
   "metadata": {},
   "outputs": [
    {
     "data": {
      "image/png": "[encoded data removed]",
      "text/plain": [
       "<matplotlib.figure.Figure at 0x7f04b881d358>"
      ]
     },
     "metadata": {},
     "output_type": "display_data"
    }
   ],
   "source": [
    "#generate a target feature.  Our target is the number of installs per 100 people\n",
    "data['per_capita'] = (data['existing_installs_count']/data['population']*100)\n",
    "#plot the target variable to get a sense as to what we are working with\n",
    "plt.hist(data['per_capita'])\n",
    "plt.show()"
   ]
  },
  {
   "cell_type": "markdown",
   "metadata": {},
   "source": [
    "This initial data is heavily skewed towards zero.  So let's take a look at how we might be able to transform this data to make it easier for a model to get some footing."
   ]
  },
  {
   "cell_type": "code",
   "execution_count": 7,
   "metadata": {},
   "outputs": [
    {
     "data": {
      "image/png": "[encoded data removed]",
      "text/plain": [
       "<matplotlib.figure.Figure at 0x7f04b86a0080>"
      ]
     },
     "metadata": {},
     "output_type": "display_data"
    }
   ],
   "source": [
    "#try a log transformation on the variable to see if we can spread it out a little better\n",
    "test = data['per_capita'].apply(lambda x: math.log(x+1))\n",
    "plt.hist(test)\n",
    "plt.show()"
   ]
  },
  {
   "cell_type": "code",
   "execution_count": 8,
   "metadata": {},
   "outputs": [],
   "source": [
    "#try a boxcox transformation on the target to see if we can normalize it a bit\n",
    "test = boxcox(data.per_capita.apply(lambda x: x+0.1))[0]\n",
    "plt.hist(test)\n",
    "plt.show()"
   ]
  },
  {
   "cell_type": "code",
   "execution_count": 9,
   "metadata": {
    "collapsed": true
   },
   "outputs": [],
   "source": [
    "#the boxcox transformation was good so overwrite the feature as the transformed boxcox data\n",
    "data.per_capita = test"
   ]
  },
  {
   "cell_type": "markdown",
   "metadata": {},
   "source": [
    "A box cox transformation on the target normalized the distribution quite well.  Lets see what we can do to the other variables. Zhvi (median home value) should be a strong feature.  Let's take a look at the distribution and see how me might play with that data. "
   ]
  },
  {
   "cell_type": "code",
   "execution_count": 10,
   "metadata": {},
   "outputs": [
    {
     "data": {
      "image/png": "[encoded data removed]",
      "text/plain": [
       "<matplotlib.figure.Figure at 0x7f04b87ea668>"
      ]
     },
     "metadata": {},
     "output_type": "display_data"
    }
   ],
   "source": [
    "#plot home median home value data.  We have a similar issue here as we did with the target feature\n",
    "plt.hist(data.Zhvi)\n",
    "plt.show()"
   ]
  },
  {
   "cell_type": "markdown",
   "metadata": {},
   "source": [
    "Well, there are some pretty extreme datapoints that I think we will want to eliminate so let's do that and then try some transformations"
   ]
  },
  {
   "cell_type": "code",
   "execution_count": 11,
   "metadata": {},
   "outputs": [
    {
     "data": {
      "image/png": "[encoded data removed]",
      "text/plain": [
       "<matplotlib.figure.Figure at 0x7f04b8651da0>"
      ]
     },
     "metadata": {},
     "output_type": "display_data"
    }
   ],
   "source": [
    "#lets drop the very overpriced homes, looks much better now, distribution has some spread to it.\n",
    "data = data[data.Zhvi <= 1000000]\n",
    "plt.hist(data.Zhvi)\n",
    "plt.show()"
   ]
  },
  {
   "cell_type": "markdown",
   "metadata": {},
   "source": [
    "Thats some pretty fair ditribution on Zhvi and we got the correlation between our target and the feature up to 0.48.  Let's see if we can do that with some other features.  Let's look at sunlight next."
   ]
  },
  {
   "cell_type": "code",
   "execution_count": 12,
   "metadata": {},
   "outputs": [
    {
     "data": {
      "image/png": "[encoded data removed]",
      "text/plain": [
       "<matplotlib.figure.Figure at 0x7f04f0624c18>"
      ]
     },
     "metadata": {},
     "output_type": "display_data"
    }
   ],
   "source": [
    "#median income also seems to have some outliers\n",
    "plt.hist(data['medianincome'])\n",
    "plt.show()"
   ]
  },
  {
   "cell_type": "code",
   "execution_count": 13,
   "metadata": {
    "collapsed": true
   },
   "outputs": [],
   "source": [
    "#drop those outliers for median income\n",
    "data = data[data['medianincome'] < 150000]"
   ]
  },
  {
   "cell_type": "code",
   "execution_count": 14,
   "metadata": {},
   "outputs": [
    {
     "data": {
      "image/png": "[encoded data removed]",
      "text/plain": [
       "<matplotlib.figure.Figure at 0x7f04b861ce48>"
      ]
     },
     "metadata": {},
     "output_type": "display_data"
    }
   ],
   "source": [
    "#the percent of homes occupied by the owner looks like a healthy distribution, we can leave it alone.\n",
    "plt.hist(data['pctownocc'])\n",
    "plt.show()"
   ]
  },
  {
   "cell_type": "code",
   "execution_count": 15,
   "metadata": {},
   "outputs": [
    {
     "data": {
      "image/png": "[encoded data removed]",
      "text/plain": [
       "<matplotlib.figure.Figure at 0x7f04b5c36e48>"
      ]
     },
     "metadata": {},
     "output_type": "display_data"
    }
   ],
   "source": [
    "#plot a correlation map just to see how data are related\n",
    "corr = data.drop(['existing_installs_count','population'], axis = 1).corr()\n",
    "sns.heatmap(corr, \n",
    "            xticklabels=corr.columns.values,\n",
    "            yticklabels=corr.columns.values, annot= True)\n",
    "plt.show()"
   ]
  },
  {
   "cell_type": "code",
   "execution_count": 16,
   "metadata": {
    "collapsed": true
   },
   "outputs": [],
   "source": [
    "#drop Nan for good measure\n",
    "data.dropna(inplace = True)\n",
    "#set features to X\n",
    "X = data.drop(['existing_installs_count','population','per_capita', 'zipcode'], axis = 1)\n",
    "#and target to Y\n",
    "Y = data['per_capita']"
   ]
  },
  {
   "cell_type": "code",
   "execution_count": 17,
   "metadata": {
    "collapsed": true
   },
   "outputs": [],
   "source": [
    "#set lower 1/3 bound value for setting up the target as a classification problem with 3 classes\n",
    "low3 = data.per_capita.median() - data.per_capita.std()/2\n",
    "#set higher 1/3 bound value for setting up the target as a classification problem with 3 classes\n",
    "high3 = data.per_capita.median() + data.per_capita.std()/2\n",
    "#set median for use of classification with only 2 classes\n",
    "median = data.per_capita.median()"
   ]
  },
  {
   "cell_type": "markdown",
   "metadata": {},
   "source": [
    "# Evaluating as a 2 class problem"
   ]
  },
  {
   "cell_type": "markdown",
   "metadata": {},
   "source": [
    "# Random Forest"
   ]
  },
  {
   "cell_type": "code",
   "execution_count": 18,
   "metadata": {
    "collapsed": true
   },
   "outputs": [],
   "source": [
    "#define classes for classification model 0 for bad, 1 fgood market.\n",
    "data['class'] = data['per_capita'].apply(lambda x: 0 if x <= median else 1)"
   ]
  },
  {
   "cell_type": "code",
   "execution_count": 19,
   "metadata": {
    "collapsed": true
   },
   "outputs": [],
   "source": [
    "#define features for classifcation model\n",
    "X = data.drop(['existing_installs_count','population','per_capita', 'zipcode', 'class'], axis = 1)\n",
    "#define target for classification model\n",
    "Y = data['class']"
   ]
  },
  {
   "cell_type": "code",
   "execution_count": 20,
   "metadata": {},
   "outputs": [
    {
     "name": "stdout",
     "output_type": "stream",
     "text": [
      "0.653568392712\n",
      "0.0364438999064\n"
     ]
    },
    {
     "data": {
      "text/plain": [
       "array([ 0.59366755,  0.66886544,  0.63258575,  0.6970297 ,  0.67569353])"
      ]
     },
     "execution_count": 20,
     "metadata": {},
     "output_type": "execute_result"
    }
   ],
   "source": [
    "rfc = RandomForestClassifier(n_estimators=100)\n",
    "score = cross_val_score(rfc, X, Y, cv=5)\n",
    "print(score.mean())\n",
    "print(score.std())\n",
    "score"
   ]
  },
  {
   "cell_type": "code",
   "execution_count": 21,
   "metadata": {
    "collapsed": true
   },
   "outputs": [],
   "source": [
    "#train test split\n",
    "X_train, X_test,Y_train, Y_test = train_test_split(X, Y, train_size = 0.8)"
   ]
  },
  {
   "cell_type": "code",
   "execution_count": 22,
   "metadata": {},
   "outputs": [
    {
     "name": "stdout",
     "output_type": "stream",
     "text": [
      "Accuracy: 0.7598944591029023\n"
     ]
    }
   ],
   "source": [
    "rfc = RandomForestClassifier(n_estimators=100)\n",
    "rfc.fit(X_train, Y_train)\n",
    "Y_rand = rfc.predict(X_test)\n",
    "print('Accuracy: {}'.format(rfc.score(X_test, Y_test)))"
   ]
  },
  {
   "cell_type": "code",
   "execution_count": 23,
   "metadata": {},
   "outputs": [
    {
     "data": {
      "text/plain": [
       "array([[588, 153],\n",
       "       [211, 564]])"
      ]
     },
     "execution_count": 23,
     "metadata": {},
     "output_type": "execute_result"
    }
   ],
   "source": [
    "confusion_matrix(Y_test,Y_rand)"
   ]
  },
  {
   "cell_type": "code",
   "execution_count": 24,
   "metadata": {},
   "outputs": [
    {
     "name": "stdout",
     "output_type": "stream",
     "text": [
      "             precision    recall  f1-score   support\n",
      "\n",
      "          0       0.74      0.79      0.76       741\n",
      "          1       0.79      0.73      0.76       775\n",
      "\n",
      "avg / total       0.76      0.76      0.76      1516\n",
      "\n"
     ]
    }
   ],
   "source": [
    "print(classification_report(Y_test,Y_rand))"
   ]
  },
  {
   "cell_type": "code",
   "execution_count": 25,
   "metadata": {},
   "outputs": [
    {
     "data": {
      "image/png": "[encoded data removed]",
      "text/plain": [
       "<matplotlib.figure.Figure at 0x7f04b87144a8>"
      ]
     },
     "metadata": {},
     "output_type": "display_data"
    }
   ],
   "source": [
    "#set lables from features\n",
    "labels = X_train.columns\n",
    "#retrieve relative importance of features from random forests\n",
    "sizes = rfc.feature_importances_\n",
    "#set explode parameters to make the chart look nice\n",
    "explode = (0, 0,0  ,.1, .25)\n",
    "\n",
    "fig1, ax1 = plt.subplots()\n",
    "ax1.pie(sizes, explode=explode, labels=labels, autopct='%1.1f%%',\n",
    "        shadow=False, startangle=90)\n",
    "ax1.axis('equal')\n",
    "\n",
    "plt.show()"
   ]
  },
  {
   "cell_type": "code",
   "execution_count": 26,
   "metadata": {},
   "outputs": [],
   "source": [
    "class binensemble():\n",
    "    \n",
    "    def __init__ (self):\n",
    "        self.erfc = RandomForestClassifier(n_estimators=100)\n",
    "        self.egbc = GradientBoostingClassifier()\n",
    "        self.elr = LogisticRegression()\n",
    "        \n",
    "        \n",
    "    def fit (self, data, target):\n",
    "        self.erfc.fit(data, target)\n",
    "        self.egbc.fit(data, target)\n",
    "        self.elr.fit(data, target)\n",
    "    def predict(self,to_pred):\n",
    "        \n",
    "        Y_rand = self.erfc.predict(to_pred)\n",
    "        Y_grad = self.egbc.predict(to_pred)\n",
    "        Y_lr = self.elr.predict(to_pred)\n",
    "        ensembleModel = pd.DataFrame()\n",
    "        ensembleModel['random'] = Y_rand\n",
    "        ensembleModel['gradient'] = Y_grad\n",
    "        ensembleModel['logis'] = Y_lr\n",
    "\n",
    "        ensembleresults = ensembleModel.mode(axis = 1)\n",
    "\n",
    "        return ensembleresults"
   ]
  },
  {
   "cell_type": "code",
   "execution_count": 27,
   "metadata": {},
   "outputs": [
    {
     "data": {
      "text/plain": [
       "0.75131926121372028"
      ]
     },
     "execution_count": 27,
     "metadata": {},
     "output_type": "execute_result"
    }
   ],
   "source": [
    "ensemble = binensemble()\n",
    "\n",
    "ensemble.fit(X_train, Y_train)\n",
    "Y_ = ensemble.predict(X_test)\n",
    "accuracy_score(Y_test, Y_)"
   ]
  },
  {
   "cell_type": "markdown",
   "metadata": {},
   "source": [
    "# Mapping 2 class problem"
   ]
  },
  {
   "cell_type": "code",
   "execution_count": 28,
   "metadata": {
    "collapsed": true
   },
   "outputs": [],
   "source": [
    "#reread in my raw data to make predictions on other data\n",
    "homevalue = pd.read_csv('Solar Data/Zip_Zhvi_Summary_AllHomes.csv')\n",
    "homevalue = homevalue[['RegionName', 'Zhvi']]\n",
    "census = pd.read_csv('scraped_from_census.csv')\n",
    "census= census[['zipcode', 'population','medianage', 'medianincome','pctownocc']]\n",
    "census_solar_home = census.merge(homevalue, left_on = 'zipcode', right_on = 'RegionName', how = 'inner')\n",
    "solar_rad = pd.read_csv('Solar_Radiation_by_zip.csv')\n",
    "solar_rad = solar_rad[solar_rad.solar_radiation !=  'error']\n",
    "data_to_predict = census_solar_home.merge(solar_rad,on = 'zipcode', how = 'inner')"
   ]
  },
  {
   "cell_type": "code",
   "execution_count": 29,
   "metadata": {
    "collapsed": true
   },
   "outputs": [],
   "source": [
    "#drop zip codes that were used in the model generation\n",
    "data_to_predict = data_to_predict[~data_to_predict.zipcode.isin(data.zipcode)]\n",
    "X_ = data_to_predict.drop(['population','RegionName', 'zipcode'], axis = 1)"
   ]
  },
  {
   "cell_type": "code",
   "execution_count": 30,
   "metadata": {
    "collapsed": true
   },
   "outputs": [],
   "source": [
    "#drop zip codes that were used in the model generation\n",
    "data_to_predict = data_to_predict[~data_to_predict.zipcode.isin(data.zipcode)]\n",
    "X_ = data_to_predict.drop(['population','RegionName', 'zipcode'], axis = 1)"
   ]
  },
  {
   "cell_type": "code",
   "execution_count": 31,
   "metadata": {
    "collapsed": true
   },
   "outputs": [],
   "source": [
    "data_to_predict.reset_index(inplace = True)"
   ]
  },
  {
   "cell_type": "code",
   "execution_count": 32,
   "metadata": {},
   "outputs": [],
   "source": [
    "#save the predicted values\n",
    "data_to_predict['class'] = ensemble.predict(X_)"
   ]
  },
  {
   "cell_type": "code",
   "execution_count": 33,
   "metadata": {
    "collapsed": true
   },
   "outputs": [],
   "source": [
    "#load all latitude and longitudes for zip codes\n",
    "zip_lats_longs = pd.read_csv('us_postal_codes.csv')\n",
    "#drop the unnessesary parts of the data\n",
    "zip_lats_longs = zip_lats_longs[['Zip Code', 'Latitude','Longitude']]\n",
    "#merge the lats and longs onto the data with the predicted values\n",
    "to_plot = data_to_predict.merge(zip_lats_longs, left_on = 'zipcode', right_on = 'Zip Code', how = 'inner')"
   ]
  },
  {
   "cell_type": "code",
   "execution_count": 34,
   "metadata": {
    "collapsed": true
   },
   "outputs": [],
   "source": [
    "#break up the data into 2 datasets, good, medium and bad predicted markets\n",
    "good_markets = to_plot[to_plot['class'] == 1]\n",
    "bad_markets = to_plot[to_plot['class'] == 0]\n",
    "#center and zoom the map over the united states\n",
    "gmap = gmplot.GoogleMapPlotter(to_plot['Latitude'].mean(), to_plot['Longitude'].mean(), 4)\n",
    "#plot green dots to represent good markets\n",
    "gmap.scatter(good_markets['Latitude'], good_markets['Longitude'], '#228B22', size=4000, marker=False)\n",
    "#plot red dots to represent bad markets\n",
    "gmap.scatter(bad_markets['Latitude'], bad_markets['Longitude'], '#ff0000', size=4000, marker=False)\n",
    "#draw the mapfile\n",
    "gmap.draw('2classmarketpredictions.html')"
   ]
  },
  {
   "cell_type": "markdown",
   "metadata": {},
   "source": [
    "# Evaluating as a 3 class problem"
   ]
  },
  {
   "cell_type": "code",
   "execution_count": 35,
   "metadata": {
    "collapsed": true
   },
   "outputs": [],
   "source": [
    "#define classes for classification model 0 for bad, 1 for medium and 2 for good market.\n",
    "data['class'] = data['per_capita'].apply(lambda x: 0 if x <= low3 else (2 if x >= high3 else 1))"
   ]
  },
  {
   "cell_type": "code",
   "execution_count": 36,
   "metadata": {
    "collapsed": true
   },
   "outputs": [],
   "source": [
    "#define features for classifcation model\n",
    "X = data.drop(['existing_installs_count','population','per_capita', 'zipcode', 'class'], axis = 1)\n",
    "#define target for classification model\n",
    "Y = data['class']"
   ]
  },
  {
   "cell_type": "code",
   "execution_count": 37,
   "metadata": {},
   "outputs": [
    {
     "name": "stdout",
     "output_type": "stream",
     "text": [
      "0.765994235307\n",
      "0.127322250341\n"
     ]
    },
    {
     "data": {
      "text/plain": [
       "array([ 0.80211082,  0.79155673,  0.8290429 ,  0.88712871,  0.52013201])"
      ]
     },
     "execution_count": 37,
     "metadata": {},
     "output_type": "execute_result"
    }
   ],
   "source": [
    "rfc = RandomForestClassifier()\n",
    "score = cross_val_score(rfc, X, Y, cv=5)\n",
    "print(score.mean())\n",
    "print(score.std())\n",
    "score"
   ]
  },
  {
   "cell_type": "code",
   "execution_count": 38,
   "metadata": {
    "collapsed": true
   },
   "outputs": [],
   "source": [
    "#train test split\n",
    "X_train, X_test,Y_train, Y_test = train_test_split(X, Y, train_size = 0.8)"
   ]
  },
  {
   "cell_type": "code",
   "execution_count": 39,
   "metadata": {},
   "outputs": [
    {
     "name": "stdout",
     "output_type": "stream",
     "text": [
      "Accuracy: 0.8713720316622692\n"
     ]
    }
   ],
   "source": [
    "rfc = RandomForestClassifier()\n",
    "rfc.fit(X_train, Y_train)\n",
    "Y_ = rfc.predict(X_test)\n",
    "print('Accuracy: {}'.format(rfc.score(X_test, Y_test)))"
   ]
  },
  {
   "cell_type": "code",
   "execution_count": 40,
   "metadata": {},
   "outputs": [
    {
     "data": {
      "image/png": "[encoded data removed]",
      "text/plain": [
       "<matplotlib.figure.Figure at 0x7f04b8621e48>"
      ]
     },
     "metadata": {},
     "output_type": "display_data"
    }
   ],
   "source": [
    "#set lables from features\n",
    "labels = X_train.columns\n",
    "#retrieve relative importance of features from random forests\n",
    "sizes = rfc.feature_importances_\n",
    "#set explode parameters to make the chart look nice\n",
    "explode = (0, 0,0  ,.1, .25)\n",
    "\n",
    "fig1, ax1 = plt.subplots()\n",
    "ax1.pie(sizes, explode=explode, labels=labels, autopct='%1.1f%%',\n",
    "        shadow=False, startangle=90)\n",
    "ax1.axis('equal')\n",
    "\n",
    "plt.show()"
   ]
  },
  {
   "cell_type": "code",
   "execution_count": 41,
   "metadata": {},
   "outputs": [
    {
     "data": {
      "text/plain": [
       "array([[1162,   61],\n",
       "       [ 134,  159]])"
      ]
     },
     "execution_count": 41,
     "metadata": {},
     "output_type": "execute_result"
    }
   ],
   "source": [
    "confusion_matrix(Y_test,Y_)"
   ]
  },
  {
   "cell_type": "code",
   "execution_count": 42,
   "metadata": {},
   "outputs": [
    {
     "name": "stdout",
     "output_type": "stream",
     "text": [
      "             precision    recall  f1-score   support\n",
      "\n",
      "          1       0.90      0.95      0.92      1223\n",
      "          2       0.72      0.54      0.62       293\n",
      "\n",
      "avg / total       0.86      0.87      0.86      1516\n",
      "\n"
     ]
    }
   ],
   "source": [
    "print(classification_report(Y_test,Y_))"
   ]
  },
  {
   "cell_type": "code",
   "execution_count": 56,
   "metadata": {},
   "outputs": [
    {
     "name": "stdout",
     "output_type": "stream",
     "text": [
      "Accuracy: 0.8733509234828496\n"
     ]
    }
   ],
   "source": [
    "gbc = GradientBoostingClassifier()\n",
    "gbc.fit(X_train, Y_train)\n",
    "Y_ = gbc.predict(X_test)\n",
    "print('Accuracy: {}'.format(gbc.score(X_test, Y_test)))"
   ]
  },
  {
   "cell_type": "code",
   "execution_count": 57,
   "metadata": {},
   "outputs": [
    {
     "data": {
      "text/plain": [
       "array([[1170,   53],\n",
       "       [ 139,  154]])"
      ]
     },
     "execution_count": 57,
     "metadata": {},
     "output_type": "execute_result"
    }
   ],
   "source": [
    "confusion_matrix(Y_test,Y_)"
   ]
  },
  {
   "cell_type": "code",
   "execution_count": 58,
   "metadata": {},
   "outputs": [
    {
     "name": "stdout",
     "output_type": "stream",
     "text": [
      "             precision    recall  f1-score   support\n",
      "\n",
      "          1       0.89      0.96      0.92      1223\n",
      "          2       0.74      0.53      0.62       293\n",
      "\n",
      "avg / total       0.86      0.87      0.86      1516\n",
      "\n"
     ]
    }
   ],
   "source": [
    "print(classification_report(Y_test,Y_))"
   ]
  },
  {
   "cell_type": "code",
   "execution_count": 59,
   "metadata": {},
   "outputs": [
    {
     "data": {
      "text/plain": [
       "array([[1170,   53],\n",
       "       [ 139,  154]])"
      ]
     },
     "execution_count": 59,
     "metadata": {},
     "output_type": "execute_result"
    }
   ],
   "source": [
    "confusion_matrix(Y_test,Y_)"
   ]
  },
  {
   "cell_type": "code",
   "execution_count": 60,
   "metadata": {},
   "outputs": [
    {
     "name": "stdout",
     "output_type": "stream",
     "text": [
      "             precision    recall  f1-score   support\n",
      "\n",
      "          1       0.89      0.96      0.92      1223\n",
      "          2       0.74      0.53      0.62       293\n",
      "\n",
      "avg / total       0.86      0.87      0.86      1516\n",
      "\n"
     ]
    }
   ],
   "source": [
    "print(classification_report(Y_test,Y_))"
   ]
  },
  {
   "cell_type": "markdown",
   "metadata": {},
   "source": [
    "# Mapping the 3 class problem"
   ]
  },
  {
   "cell_type": "code",
   "execution_count": 61,
   "metadata": {
    "collapsed": true
   },
   "outputs": [],
   "source": [
    "#reread in my raw data to make predictions on other data\n",
    "homevalue = pd.read_csv('Solar Data/Zip_Zhvi_Summary_AllHomes.csv')\n",
    "homevalue = homevalue[['RegionName', 'Zhvi']]\n",
    "census = pd.read_csv('scraped_from_census.csv')\n",
    "census= census[['zipcode', 'population','medianage', 'medianincome','pctownocc']]\n",
    "census_solar_home = census.merge(homevalue, left_on = 'zipcode', right_on = 'RegionName', how = 'inner')\n",
    "solar_rad = pd.read_csv('Solar_Radiation_by_zip.csv')\n",
    "solar_rad = solar_rad[solar_rad.solar_radiation !=  'error']\n",
    "data_to_predict = census_solar_home.merge(solar_rad,on = 'zipcode', how = 'inner')"
   ]
  },
  {
   "cell_type": "code",
   "execution_count": 62,
   "metadata": {
    "collapsed": true
   },
   "outputs": [],
   "source": [
    "#drop zip codes that were used in the model generation\n",
    "data_to_predict = data_to_predict[~data_to_predict.zipcode.isin(data.zipcode)]\n",
    "X_ = data_to_predict.drop(['population','RegionName', 'zipcode'], axis = 1)"
   ]
  },
  {
   "cell_type": "code",
   "execution_count": 63,
   "metadata": {
    "collapsed": true
   },
   "outputs": [],
   "source": [
    "#save the predicted values\n",
    "data_to_predict['class'] = rfc.predict(X_)"
   ]
  },
  {
   "cell_type": "code",
   "execution_count": 64,
   "metadata": {
    "collapsed": true
   },
   "outputs": [],
   "source": [
    "#load all latitude and longitudes for zip codes\n",
    "zip_lats_longs = pd.read_csv('us_postal_codes.csv')\n",
    "#drop the unnessesary parts of the data\n",
    "zip_lats_longs = zip_lats_longs[['Zip Code', 'Latitude','Longitude']]\n",
    "#merge the lats and longs onto the data with the predicted values\n",
    "to_plot = data_to_predict.merge(zip_lats_longs, left_on = 'zipcode', right_on = 'Zip Code', how = 'inner')"
   ]
  },
  {
   "cell_type": "code",
   "execution_count": 65,
   "metadata": {
    "collapsed": true
   },
   "outputs": [],
   "source": [
    "#break up the data into 3 datasets, good, medium and bad predicted markets\n",
    "good_markets = to_plot[to_plot['class'] == 2]\n",
    "medium_markets = to_plot[to_plot['class'] == 1]\n",
    "bad_markets = to_plot[to_plot['class'] == 0]\n",
    "#center and zoom the map over the united states\n",
    "gmap = gmplot.GoogleMapPlotter(to_plot['Latitude'].mean(), to_plot['Longitude'].mean(), 4)\n",
    "#plot green dots to represent good markets\n",
    "gmap.scatter(good_markets['Latitude'], good_markets['Longitude'], '#228B22', size=4000, marker=False)\n",
    "#plot yellow dots to represent medium markets\n",
    "gmap.scatter(medium_markets['Latitude'], medium_markets['Longitude'], '#ffff00', size=4000, marker=False)\n",
    "#plot red dots to represent bad markets\n",
    "gmap.scatter(bad_markets['Latitude'], bad_markets['Longitude'], '#ff0000', size=4000, marker=False)\n",
    "#draw the mapfile\n",
    "gmap.draw('3classmarketprediction.html')"
   ]
  },
  {
   "cell_type": "code",
   "execution_count": 66,
   "metadata": {},
   "outputs": [
    {
     "data": {
      "text/plain": [
       "428"
      ]
     },
     "execution_count": 66,
     "metadata": {},
     "output_type": "execute_result"
    }
   ],
   "source": [
    "len(good_markets)"
   ]
  },
  {
   "cell_type": "code",
   "execution_count": 67,
   "metadata": {},
   "outputs": [
    {
     "data": {
      "text/plain": [
       "4925"
      ]
     },
     "execution_count": 67,
     "metadata": {},
     "output_type": "execute_result"
    }
   ],
   "source": [
    "len(medium_markets)"
   ]
  },
  {
   "cell_type": "code",
   "execution_count": 68,
   "metadata": {},
   "outputs": [
    {
     "data": {
      "text/plain": [
       "0"
      ]
     },
     "execution_count": 68,
     "metadata": {},
     "output_type": "execute_result"
    }
   ],
   "source": [
    "len(bad_markets)"
   ]
  },
  {
   "cell_type": "code",
   "execution_count": null,
   "metadata": {
    "collapsed": true
   },
   "outputs": [],
   "source": []
  }
 ],
 "metadata": {
  "kernelspec": {
   "display_name": "Python [conda root]",
   "language": "python",
   "name": "conda-root-py"
  },
  "language_info": {
   "codemirror_mode": {
    "name": "ipython",
    "version": 3
   },
   "file_extension": ".py",
   "mimetype": "text/x-python",
   "name": "python",
   "nbconvert_exporter": "python",
   "pygments_lexer": "ipython3",
   "version": "3.5.3"
  }
 },
 "nbformat": 4,
 "nbformat_minor": 2
}
