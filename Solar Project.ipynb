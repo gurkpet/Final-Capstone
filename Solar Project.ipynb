{
 "cells": [
  {
   "cell_type": "code",
   "execution_count": 1,
   "metadata": {
    "collapsed": true
   },
   "outputs": [],
   "source": [
    "import pandas as pd\n",
    "from sklearn.ensemble import GradientBoostingClassifier, RandomForestClassifier\n",
    "from sklearn.model_selection import cross_val_score, train_test_split, KFold\n",
    "import matplotlib.pyplot as plt\n",
    "import math\n",
    "from scipy.stats import boxcox\n",
    "import seaborn as sns\n",
    "import gmplot\n",
    "from sklearn.metrics import classification_report, confusion_matrix, r2_score, accuracy_score, roc_curve\n",
    "from sklearn.linear_model import LogisticRegression\n",
    "from sklearn.metrics import auc, roc_auc_score\n",
    "from sklearn import metrics\n",
    "import numpy as np"
   ]
  },
  {
   "cell_type": "code",
   "execution_count": 2,
   "metadata": {
    "collapsed": true
   },
   "outputs": [],
   "source": [
    "#read in the target data\n",
    "#link: https://www.kaggle.com/jboysen/google-project-sunroof\n",
    "solar_data = pd.read_csv('Solar Data/project-sunroof-postal_code-09082017.csv')\n",
    "solar_data.drop(0, inplace = True)\n",
    "#convert the column containing postal codes from str to int\n",
    "solar_data['region_name'] = solar_data['region_name'].apply(lambda x : int(x))"
   ]
  },
  {
   "cell_type": "code",
   "execution_count": 3,
   "metadata": {
    "collapsed": true
   },
   "outputs": [],
   "source": [
    "#read in the median home value data\n",
    "#link: http://files.zillowstatic.com/research/public/Zip/Zip_Zhvi_Summary_AllHomes.csv\n",
    "homevalue = pd.read_csv('Solar Data/Zip_Zhvi_Summary_AllHomes.csv')\n",
    "homevalue = homevalue[['RegionName', 'Zhvi']]"
   ]
  },
  {
   "cell_type": "code",
   "execution_count": 4,
   "metadata": {
    "collapsed": true
   },
   "outputs": [],
   "source": [
    "#read in census data\n",
    "#scraped from Census.gov see scrape census.gov.py file\n",
    "census = pd.read_csv('scraped_from_census.csv')\n",
    "census = census[['zipcode', 'population','medianage', 'medianincome','pctownocc']]\n",
    "#merge target data with census data\n",
    "census_solar = solar_data[['region_name','existing_installs_count']].merge(census, left_on = 'region_name', right_on = 'zipcode', how = 'inner')\n",
    "#merge in home value data with other data\n",
    "census_solar_home = census_solar.merge(homevalue, left_on = 'zipcode', right_on = 'RegionName', how = 'inner')\n",
    "#read in solar radiation data\n",
    "#scraped from nrel see Scrape_Nrel_Solar.py\n",
    "solar_rad = pd.read_csv('Solar_Radiation_by_zip.csv')\n",
    "#drop the rows where the solar data was not available\n",
    "solar_rad = solar_rad[solar_rad.solar_radiation !=  'error']\n",
    "#merge solar radiation data in to the rest of the data\n",
    "census_solar_home_rad = census_solar_home.merge(solar_rad,on = 'zipcode', how = 'inner')"
   ]
  },
  {
   "cell_type": "code",
   "execution_count": 5,
   "metadata": {
    "collapsed": true
   },
   "outputs": [],
   "source": [
    "#trim the unneeded columns from the data\n",
    "census_solar_home_rad= census_solar_home_rad[['zipcode',  'population',\n",
    "       'medianage', 'medianincome', 'pctownocc', 'Zhvi',\n",
    "       'solar_radiation','existing_installs_count']]\n",
    "#convert solarion radiation data from str to float\n",
    "census_solar_home_rad['solar_radiation'] = census_solar_home_rad['solar_radiation'] .apply(lambda x : float(x))\n",
    "#rename all the combined data as data\n",
    "data = census_solar_home_rad"
   ]
  },
  {
   "cell_type": "markdown",
   "metadata": {},
   "source": [
    "First we need to establish a target feature.  We'll call that per_capita and calculate it as number of installs for every 100 people in a given geographic area (zip code)"
   ]
  },
  {
   "cell_type": "code",
   "execution_count": 6,
   "metadata": {},
   "outputs": [
    {
     "data": {
      "image/png": "[encoded data removed]",
      "text/plain": [
       "<matplotlib.figure.Figure at 0x7f07a0367f60>"
      ]
     },
     "metadata": {},
     "output_type": "display_data"
    }
   ],
   "source": [
    "#generate a target feature.  Our target is the number of installs per 100 people\n",
    "data['per_capita'] = (data['existing_installs_count']/data['population']*100)\n",
    "#plot the target variable to get a sense as to what we are working with\n",
    "plt.hist(data['per_capita'])\n",
    "plt.show()"
   ]
  },
  {
   "cell_type": "markdown",
   "metadata": {},
   "source": [
    "This initial data is heavily skewed towards zero.  So let's take a look at how we might be able to transform this data to make it easier for a model to get some footing."
   ]
  },
  {
   "cell_type": "code",
   "execution_count": 7,
   "metadata": {},
   "outputs": [
    {
     "data": {
      "image/png": "[encoded data removed]",
      "text/plain": [
       "<matplotlib.figure.Figure at 0x7f07a03dfac8>"
      ]
     },
     "metadata": {},
     "output_type": "display_data"
    }
   ],
   "source": [
    "#try a log transformation on the variable to see if we can spread it out a little better\n",
    "test = data['per_capita'].apply(lambda x: math.log(x+1))\n",
    "plt.hist(test)\n",
    "plt.show()"
   ]
  },
  {
   "cell_type": "code",
   "execution_count": 8,
   "metadata": {},
   "outputs": [
    {
     "data": {
      "image/png": "[encoded data removed]",
      "text/plain": [
       "<matplotlib.figure.Figure at 0x7f07a02d8ef0>"
      ]
     },
     "metadata": {},
     "output_type": "display_data"
    }
   ],
   "source": [
    "#try a boxcox transformation on the target to see if we can normalize it a bit\n",
    "test = boxcox(data.per_capita.apply(lambda x: x+0.1))[0]\n",
    "plt.hist(test)\n",
    "plt.show()"
   ]
  },
  {
   "cell_type": "code",
   "execution_count": 9,
   "metadata": {
    "collapsed": true
   },
   "outputs": [],
   "source": [
    "#the boxcox transformation was good so overwrite the feature as the transformed boxcox data\n",
    "data.per_capita = test"
   ]
  },
  {
   "cell_type": "markdown",
   "metadata": {},
   "source": [
    "A box cox transformation on the target normalized the distribution quite well.  Lets see what we can do to the other variables. Zhvi (median home value) should be a strong feature.  Let's take a look at the distribution and see how me might play with that data. "
   ]
  },
  {
   "cell_type": "code",
   "execution_count": 10,
   "metadata": {},
   "outputs": [
    {
     "data": {
      "image/png": "[encoded data removed]",
      "text/plain": [
       "<matplotlib.figure.Figure at 0x7f07a0ad2588>"
      ]
     },
     "metadata": {},
     "output_type": "display_data"
    }
   ],
   "source": [
    "#plot home median home value data.  We have a similar issue here as we did with the target feature\n",
    "plt.hist(data.Zhvi)\n",
    "plt.show()"
   ]
  },
  {
   "cell_type": "markdown",
   "metadata": {},
   "source": [
    "Well, there are some pretty extreme datapoints that I think we will want to eliminate so let's do that and then try some transformations"
   ]
  },
  {
   "cell_type": "code",
   "execution_count": 11,
   "metadata": {},
   "outputs": [
    {
     "data": {
      "image/png": "[encoded data removed]",
      "text/plain": [
       "<matplotlib.figure.Figure at 0x7f07d81a7f98>"
      ]
     },
     "metadata": {},
     "output_type": "display_data"
    }
   ],
   "source": [
    "#lets drop the very overpriced homes, looks much better now, distribution has some spread to it.\n",
    "data = data[data.Zhvi <= 1000000]\n",
    "plt.hist(data.Zhvi)\n",
    "plt.show()"
   ]
  },
  {
   "cell_type": "markdown",
   "metadata": {},
   "source": [
    "Thats some pretty fair ditribution on Zhvi and we got the correlation between our target and the feature up to 0.48.  Let's see if we can do that with some other features.  Let's look at sunlight next."
   ]
  },
  {
   "cell_type": "code",
   "execution_count": 12,
   "metadata": {},
   "outputs": [
    {
     "data": {
      "image/png": "[encoded data removed]",
      "text/plain": [
       "<matplotlib.figure.Figure at 0x7f07d81a7748>"
      ]
     },
     "metadata": {},
     "output_type": "display_data"
    }
   ],
   "source": [
    "#median income also seems to have some outliers\n",
    "plt.hist(data['medianincome'])\n",
    "plt.show()"
   ]
  },
  {
   "cell_type": "code",
   "execution_count": 13,
   "metadata": {
    "collapsed": true
   },
   "outputs": [],
   "source": [
    "#drop those outliers for median income\n",
    "data = data[data['medianincome'] < 150000]"
   ]
  },
  {
   "cell_type": "code",
   "execution_count": 14,
   "metadata": {},
   "outputs": [
    {
     "data": {
      "image/png": "[encoded data removed]",
      "text/plain": [
       "<matplotlib.figure.Figure at 0x7f079d8ac390>"
      ]
     },
     "metadata": {},
     "output_type": "display_data"
    }
   ],
   "source": [
    "#the percent of homes occupied by the owner looks like a healthy distribution, we can leave it alone.\n",
    "plt.hist(data['pctownocc'])\n",
    "plt.show()"
   ]
  },
  {
   "cell_type": "code",
   "execution_count": 15,
   "metadata": {},
   "outputs": [
    {
     "data": {
      "image/png": "[encoded data removed]",
      "text/plain": [
       "<matplotlib.figure.Figure at 0x7f07a014ca58>"
      ]
     },
     "metadata": {},
     "output_type": "display_data"
    }
   ],
   "source": [
    "#plot a correlation map just to see how data are related\n",
    "corr = data.drop(['existing_installs_count','population'], axis = 1).corr()\n",
    "sns.heatmap(corr, \n",
    "            xticklabels=corr.columns.values,\n",
    "            yticklabels=corr.columns.values, annot= True)\n",
    "plt.show()"
   ]
  },
  {
   "cell_type": "code",
   "execution_count": 16,
   "metadata": {
    "collapsed": true
   },
   "outputs": [],
   "source": [
    "#drop Nan for good measure\n",
    "data.dropna(inplace = True)\n",
    "#set features to X\n",
    "X = data.drop(['existing_installs_count','population','per_capita', 'zipcode'], axis = 1)\n",
    "#and target to Y\n",
    "Y = data['per_capita']"
   ]
  },
  {
   "cell_type": "code",
   "execution_count": 17,
   "metadata": {
    "collapsed": true
   },
   "outputs": [],
   "source": [
    "#set lower 1/3 bound value for setting up the target as a classification problem with 3 classes\n",
    "low3 = data.per_capita.median() - data.per_capita.std()/2\n",
    "#set higher 1/3 bound value for setting up the target as a classification problem with 3 classes\n",
    "high3 = data.per_capita.median() + data.per_capita.std()/2\n",
    "#set median for use of classification with only 2 classes\n",
    "median = data.per_capita.median()"
   ]
  },
  {
   "cell_type": "markdown",
   "metadata": {},
   "source": [
    "# Evaluating as a 2 class problem"
   ]
  },
  {
   "cell_type": "markdown",
   "metadata": {},
   "source": [
    "# Random Forest"
   ]
  },
  {
   "cell_type": "code",
   "execution_count": 18,
   "metadata": {
    "collapsed": true
   },
   "outputs": [],
   "source": [
    "#define classes for classification model 0 for bad, 1 fgood market.\n",
    "data['class'] = data['per_capita'].apply(lambda x: 0 if x <= median else 1)"
   ]
  },
  {
   "cell_type": "code",
   "execution_count": 19,
   "metadata": {
    "collapsed": true
   },
   "outputs": [],
   "source": [
    "#define features for classifcation model\n",
    "X = data.drop(['existing_installs_count','population','per_capita', 'zipcode', 'class'], axis = 1)\n",
    "#define target for classification model\n",
    "Y = data['class']"
   ]
  },
  {
   "cell_type": "code",
   "execution_count": 20,
   "metadata": {},
   "outputs": [
    {
     "name": "stdout",
     "output_type": "stream",
     "text": [
      "0.650006126195\n",
      "0.0384816351468\n"
     ]
    },
    {
     "data": {
      "text/plain": [
       "array([ 0.58245383,  0.65699208,  0.63984169,  0.6950495 ,  0.67569353])"
      ]
     },
     "execution_count": 20,
     "metadata": {},
     "output_type": "execute_result"
    }
   ],
   "source": [
    "rfc = RandomForestClassifier(n_estimators=100)\n",
    "score = cross_val_score(rfc, X, Y, cv=5)\n",
    "print(score.mean())\n",
    "print(score.std())\n",
    "score"
   ]
  },
  {
   "cell_type": "code",
   "execution_count": 21,
   "metadata": {
    "collapsed": true
   },
   "outputs": [],
   "source": [
    "#train test split\n",
    "X_train, X_test,Y_train, Y_test = train_test_split(X, Y, train_size = 0.8)"
   ]
  },
  {
   "cell_type": "code",
   "execution_count": 22,
   "metadata": {},
   "outputs": [
    {
     "name": "stdout",
     "output_type": "stream",
     "text": [
      "Accuracy: 0.7691292875989446\n"
     ]
    }
   ],
   "source": [
    "rfc = RandomForestClassifier(n_estimators=100)\n",
    "rfc.fit(X_train, Y_train)\n",
    "Y_rand = rfc.predict(X_test)\n",
    "print('Accuracy: {}'.format(rfc.score(X_test, Y_test)))"
   ]
  },
  {
   "cell_type": "code",
   "execution_count": 23,
   "metadata": {},
   "outputs": [
    {
     "data": {
      "text/plain": [
       "array([[606, 162],\n",
       "       [188, 560]])"
      ]
     },
     "execution_count": 23,
     "metadata": {},
     "output_type": "execute_result"
    }
   ],
   "source": [
    "confusion_matrix(Y_test,Y_rand)"
   ]
  },
  {
   "cell_type": "code",
   "execution_count": 24,
   "metadata": {},
   "outputs": [
    {
     "name": "stdout",
     "output_type": "stream",
     "text": [
      "             precision    recall  f1-score   support\n",
      "\n",
      "          0       0.76      0.79      0.78       768\n",
      "          1       0.78      0.75      0.76       748\n",
      "\n",
      "avg / total       0.77      0.77      0.77      1516\n",
      "\n"
     ]
    }
   ],
   "source": [
    "print(classification_report(Y_test,Y_rand))"
   ]
  },
  {
   "cell_type": "code",
   "execution_count": 25,
   "metadata": {},
   "outputs": [
    {
     "data": {
      "image/png": "[encoded data removed]",
      "text/plain": [
       "<matplotlib.figure.Figure at 0x7f07a0367ac8>"
      ]
     },
     "metadata": {},
     "output_type": "display_data"
    }
   ],
   "source": [
    "#set lables from features\n",
    "labels = X_train.columns\n",
    "#retrieve relative importance of features from random forests\n",
    "sizes = rfc.feature_importances_\n",
    "#set explode parameters to make the chart look nice\n",
    "explode = (0, 0,0  ,.1, .25)\n",
    "\n",
    "fig1, ax1 = plt.subplots()\n",
    "ax1.pie(sizes, explode=explode, labels=labels, autopct='%1.1f%%',\n",
    "        shadow=False, startangle=90)\n",
    "ax1.axis('equal')\n",
    "\n",
    "plt.show()"
   ]
  },
  {
   "cell_type": "code",
   "execution_count": 26,
   "metadata": {
    "collapsed": true
   },
   "outputs": [],
   "source": [
    "class binensemble():\n",
    "    \n",
    "    def __init__ (self):\n",
    "        self.erfc = RandomForestClassifier(n_estimators=100)\n",
    "        self.egbc = GradientBoostingClassifier()\n",
    "        self.elr = LogisticRegression()\n",
    "        \n",
    "        \n",
    "    def fit (self, data, target):\n",
    "        self.erfc.fit(data, target)\n",
    "        self.egbc.fit(data, target)\n",
    "        self.elr.fit(data, target)\n",
    "    def predict(self,to_pred):\n",
    "        \n",
    "        Y_rand = self.erfc.predict(to_pred)\n",
    "        Y_grad = self.egbc.predict(to_pred)\n",
    "        Y_lr = self.elr.predict(to_pred)\n",
    "        ensembleModel = pd.DataFrame()\n",
    "        ensembleModel['random'] = Y_rand\n",
    "        ensembleModel['gradient'] = Y_grad\n",
    "        ensembleModel['logis'] = Y_lr\n",
    "\n",
    "        ensembleresults = ensembleModel.mode(axis = 1)\n",
    "\n",
    "        return ensembleresults"
   ]
  },
  {
   "cell_type": "code",
   "execution_count": 27,
   "metadata": {},
   "outputs": [
    {
     "data": {
      "text/plain": [
       "0.7579155672823219"
      ]
     },
     "execution_count": 27,
     "metadata": {},
     "output_type": "execute_result"
    }
   ],
   "source": [
    "ensemble = binensemble()\n",
    "\n",
    "ensemble.fit(X_train, Y_train)\n",
    "Y_ = ensemble.predict(X_test)\n",
    "accuracy_score(Y_test, Y_)"
   ]
  },
  {
   "cell_type": "code",
   "execution_count": 28,
   "metadata": {},
   "outputs": [
    {
     "name": "stdout",
     "output_type": "stream",
     "text": [
      "             precision    recall  f1-score   support\n",
      "\n",
      "          0       0.75      0.79      0.77       768\n",
      "          1       0.77      0.73      0.75       748\n",
      "\n",
      "avg / total       0.76      0.76      0.76      1516\n",
      "\n"
     ]
    }
   ],
   "source": [
    "print(classification_report(Y_test,Y_))"
   ]
  },
  {
   "cell_type": "code",
   "execution_count": 29,
   "metadata": {},
   "outputs": [
    {
     "data": {
      "text/plain": [
       "array([[606, 162],\n",
       "       [188, 560]])"
      ]
     },
     "execution_count": 29,
     "metadata": {},
     "output_type": "execute_result"
    }
   ],
   "source": [
    "cmat = confusion_matrix(Y_test,Y_rand)\n",
    "cmat"
   ]
  },
  {
   "cell_type": "code",
   "execution_count": 30,
   "metadata": {
    "scrolled": false
   },
   "outputs": [
    {
     "data": {
      "image/png": "[encoded data removed]",
      "text/plain": [
       "<matplotlib.figure.Figure at 0x7f07a01cbe10>"
      ]
     },
     "metadata": {},
     "output_type": "display_data"
    },
    {
     "name": "stdout",
     "output_type": "stream",
     "text": [
      "AUC: 0.757499164439\n"
     ]
    }
   ],
   "source": [
    "fpr, tpr, _ = roc_curve(Y_test, Y_)\n",
    "# Print ROC curve\n",
    "plt.plot(fpr,tpr)\n",
    "plt.plot([0,1],[0,1], '--', color = 'black')\n",
    "plt.title('ROC Curve')\n",
    "plt.ylabel('True Positive Rate')\n",
    "plt.xlabel('False Positive Rate')\n",
    "plt.show() \n",
    "\n",
    "# Print AUC\n",
    "auc = np.trapz(tpr,fpr)\n",
    "print('AUC:', auc)"
   ]
  },
  {
   "cell_type": "markdown",
   "metadata": {},
   "source": [
    "# Mapping 2 class problem"
   ]
  },
  {
   "cell_type": "code",
   "execution_count": 31,
   "metadata": {
    "collapsed": true
   },
   "outputs": [],
   "source": [
    "#reread in my raw data to make predictions on other data\n",
    "homevalue = pd.read_csv('Solar Data/Zip_Zhvi_Summary_AllHomes.csv')\n",
    "homevalue = homevalue[['RegionName', 'Zhvi']]\n",
    "census = pd.read_csv('scraped_from_census.csv')\n",
    "census= census[['zipcode', 'population','medianage', 'medianincome','pctownocc']]\n",
    "census_solar_home = census.merge(homevalue, left_on = 'zipcode', right_on = 'RegionName', how = 'inner')\n",
    "solar_rad = pd.read_csv('Solar_Radiation_by_zip.csv')\n",
    "solar_rad = solar_rad[solar_rad.solar_radiation !=  'error']\n",
    "data_to_predict = census_solar_home.merge(solar_rad,on = 'zipcode', how = 'inner')"
   ]
  },
  {
   "cell_type": "code",
   "execution_count": 32,
   "metadata": {
    "collapsed": true
   },
   "outputs": [],
   "source": [
    "#drop zip codes that were used in the model generation\n",
    "data_to_predict = data_to_predict[~data_to_predict.zipcode.isin(data.zipcode)]\n",
    "X_ = data_to_predict.drop(['population','RegionName', 'zipcode'], axis = 1)"
   ]
  },
  {
   "cell_type": "code",
   "execution_count": 33,
   "metadata": {
    "collapsed": true
   },
   "outputs": [],
   "source": [
    "#drop zip codes that were used in the model generation\n",
    "data_to_predict = data_to_predict[~data_to_predict.zipcode.isin(data.zipcode)]\n",
    "X_ = data_to_predict.drop(['population','RegionName', 'zipcode'], axis = 1)"
   ]
  },
  {
   "cell_type": "code",
   "execution_count": 34,
   "metadata": {
    "collapsed": true
   },
   "outputs": [],
   "source": [
    "data_to_predict.reset_index(inplace = True)"
   ]
  },
  {
   "cell_type": "code",
   "execution_count": 35,
   "metadata": {
    "collapsed": true
   },
   "outputs": [],
   "source": [
    "#save the predicted values\n",
    "data_to_predict['class'] = ensemble.predict(X_)"
   ]
  },
  {
   "cell_type": "code",
   "execution_count": 36,
   "metadata": {
    "collapsed": true
   },
   "outputs": [],
   "source": [
    "#load all latitude and longitudes for zip codes\n",
    "zip_lats_longs = pd.read_csv('us_postal_codes.csv')\n",
    "#drop the unnessesary parts of the data\n",
    "zip_lats_longs = zip_lats_longs[['Zip Code', 'Latitude','Longitude']]\n",
    "#merge the lats and longs onto the data with the predicted values\n",
    "to_plot = data_to_predict.merge(zip_lats_longs, left_on = 'zipcode', right_on = 'Zip Code', how = 'inner')"
   ]
  },
  {
   "cell_type": "code",
   "execution_count": 37,
   "metadata": {
    "collapsed": true
   },
   "outputs": [],
   "source": [
    "#break up the data into 2 datasets, good, medium and bad predicted markets\n",
    "good_markets = to_plot[to_plot['class'] == 1]\n",
    "bad_markets = to_plot[to_plot['class'] == 0]\n",
    "#center and zoom the map over the united states\n",
    "gmap = gmplot.GoogleMapPlotter(to_plot['Latitude'].mean(), to_plot['Longitude'].mean(), 4)\n",
    "#plot green dots to represent good markets\n",
    "gmap.scatter(good_markets['Latitude'], good_markets['Longitude'], '#228B22', size=4000, marker=False)\n",
    "#plot red dots to represent bad markets\n",
    "gmap.scatter(bad_markets['Latitude'], bad_markets['Longitude'], '#ff0000', size=4000, marker=False)\n",
    "#draw the mapfile\n",
    "gmap.draw('2classmarketprediction.html')"
   ]
  },
  {
   "cell_type": "markdown",
   "metadata": {},
   "source": [
    "# Evaluating as a 3 class problem"
   ]
  },
  {
   "cell_type": "code",
   "execution_count": 38,
   "metadata": {
    "collapsed": true
   },
   "outputs": [],
   "source": [
    "#define classes for classification model 0 for bad, 1 for medium and 2 for good market.\n",
    "data['class'] = data['per_capita'].apply(lambda x: 0 if x <= low3 else (2 if x >= high3 else 1))"
   ]
  },
  {
   "cell_type": "code",
   "execution_count": 40,
   "metadata": {
    "collapsed": true
   },
   "outputs": [],
   "source": [
    "#define features for classifcation model\n",
    "X = data.drop(['existing_installs_count','population','per_capita', 'zipcode', 'class'], axis = 1)\n",
    "#define target for classification model\n",
    "Y = data['class']"
   ]
  },
  {
   "cell_type": "code",
   "execution_count": 41,
   "metadata": {},
   "outputs": [
    {
     "name": "stdout",
     "output_type": "stream",
     "text": [
      "0.473425438824\n",
      "0.0464881943121\n"
     ]
    },
    {
     "data": {
      "text/plain": [
       "array([ 0.38233355,  0.50131926,  0.50989446,  0.49141347,  0.48216645])"
      ]
     },
     "execution_count": 41,
     "metadata": {},
     "output_type": "execute_result"
    }
   ],
   "source": [
    "rfc = RandomForestClassifier(n_estimators=100)\n",
    "score = cross_val_score(rfc, X, Y, cv=5)\n",
    "print(score.mean())\n",
    "print(score.std())\n",
    "score"
   ]
  },
  {
   "cell_type": "code",
   "execution_count": 42,
   "metadata": {
    "collapsed": true
   },
   "outputs": [],
   "source": [
    "#train test split\n",
    "X_train, X_test,Y_train, Y_test = train_test_split(X, Y, train_size = 0.8)"
   ]
  },
  {
   "cell_type": "code",
   "execution_count": 43,
   "metadata": {},
   "outputs": [
    {
     "name": "stdout",
     "output_type": "stream",
     "text": [
      "Accuracy: 0.5956464379947229\n"
     ]
    }
   ],
   "source": [
    "rfc.fit(X_train, Y_train)\n",
    "Y_ = rfc.predict(X_test)\n",
    "print('Accuracy: {}'.format(rfc.score(X_test, Y_test)))"
   ]
  },
  {
   "cell_type": "code",
   "execution_count": 44,
   "metadata": {},
   "outputs": [
    {
     "data": {
      "image/png": "[encoded data removed]",
      "text/plain": [
       "<matplotlib.figure.Figure at 0x7f07a0144f60>"
      ]
     },
     "metadata": {},
     "output_type": "display_data"
    }
   ],
   "source": [
    "#set lables from features\n",
    "labels = X_train.columns\n",
    "#retrieve relative importance of features from random forests\n",
    "sizes = rfc.feature_importances_\n",
    "#set explode parameters to make the chart look nice\n",
    "explode = (0, 0,0  ,.1, .25)\n",
    "\n",
    "fig1, ax1 = plt.subplots()\n",
    "ax1.pie(sizes, explode=explode, labels=labels, autopct='%1.1f%%',\n",
    "        shadow=False, startangle=90)\n",
    "ax1.axis('equal')\n",
    "\n",
    "plt.show()"
   ]
  },
  {
   "cell_type": "code",
   "execution_count": 45,
   "metadata": {},
   "outputs": [
    {
     "data": {
      "text/plain": [
       "array([[267, 145,  51],\n",
       "       [160, 228, 121],\n",
       "       [ 49,  87, 408]])"
      ]
     },
     "execution_count": 45,
     "metadata": {},
     "output_type": "execute_result"
    }
   ],
   "source": [
    "confusion_matrix(Y_test,Y_)"
   ]
  },
  {
   "cell_type": "code",
   "execution_count": 46,
   "metadata": {},
   "outputs": [
    {
     "name": "stdout",
     "output_type": "stream",
     "text": [
      "             precision    recall  f1-score   support\n",
      "\n",
      "          0       0.56      0.58      0.57       463\n",
      "          1       0.50      0.45      0.47       509\n",
      "          2       0.70      0.75      0.73       544\n",
      "\n",
      "avg / total       0.59      0.60      0.59      1516\n",
      "\n"
     ]
    }
   ],
   "source": [
    "print(classification_report(Y_test,Y_))"
   ]
  },
  {
   "cell_type": "code",
   "execution_count": 47,
   "metadata": {},
   "outputs": [
    {
     "name": "stdout",
     "output_type": "stream",
     "text": [
      "Accuracy: 0.6009234828496042\n"
     ]
    }
   ],
   "source": [
    "gbc = GradientBoostingClassifier()\n",
    "gbc.fit(X_train, Y_train)\n",
    "Y_ = gbc.predict(X_test)\n",
    "print('Accuracy: {}'.format(gbc.score(X_test, Y_test)))"
   ]
  },
  {
   "cell_type": "code",
   "execution_count": 48,
   "metadata": {},
   "outputs": [
    {
     "data": {
      "text/plain": [
       "array([[269, 141,  53],\n",
       "       [152, 225, 132],\n",
       "       [ 39,  88, 417]])"
      ]
     },
     "execution_count": 48,
     "metadata": {},
     "output_type": "execute_result"
    }
   ],
   "source": [
    "confusion_matrix(Y_test,Y_)"
   ]
  },
  {
   "cell_type": "code",
   "execution_count": 49,
   "metadata": {},
   "outputs": [
    {
     "name": "stdout",
     "output_type": "stream",
     "text": [
      "             precision    recall  f1-score   support\n",
      "\n",
      "          0       0.58      0.58      0.58       463\n",
      "          1       0.50      0.44      0.47       509\n",
      "          2       0.69      0.77      0.73       544\n",
      "\n",
      "avg / total       0.59      0.60      0.60      1516\n",
      "\n"
     ]
    }
   ],
   "source": [
    "print(classification_report(Y_test,Y_))"
   ]
  },
  {
   "cell_type": "code",
   "execution_count": 50,
   "metadata": {},
   "outputs": [
    {
     "data": {
      "text/plain": [
       "array([[269, 141,  53],\n",
       "       [152, 225, 132],\n",
       "       [ 39,  88, 417]])"
      ]
     },
     "execution_count": 50,
     "metadata": {},
     "output_type": "execute_result"
    }
   ],
   "source": [
    "confusion_matrix(Y_test,Y_)"
   ]
  },
  {
   "cell_type": "code",
   "execution_count": 51,
   "metadata": {},
   "outputs": [
    {
     "name": "stdout",
     "output_type": "stream",
     "text": [
      "             precision    recall  f1-score   support\n",
      "\n",
      "          0       0.58      0.58      0.58       463\n",
      "          1       0.50      0.44      0.47       509\n",
      "          2       0.69      0.77      0.73       544\n",
      "\n",
      "avg / total       0.59      0.60      0.60      1516\n",
      "\n"
     ]
    }
   ],
   "source": [
    "print(classification_report(Y_test,Y_))"
   ]
  },
  {
   "cell_type": "code",
   "execution_count": 52,
   "metadata": {},
   "outputs": [
    {
     "data": {
      "image/png": "[encoded data removed]",
      "text/plain": [
       "<matplotlib.figure.Figure at 0x7f079d927668>"
      ]
     },
     "metadata": {},
     "output_type": "display_data"
    }
   ],
   "source": [
    "fpr = dict()\n",
    "tpr = dict()\n",
    "roc_auc = dict()\n",
    "\n",
    "dic = {0:\"bad market\",\n",
    "       1:\"medium market\",\n",
    "       2:\"good market\"\n",
    "      }\n",
    "\n",
    "#generate tpr and fpr for each class\n",
    "for i in range(0,3):\n",
    "    fpr[i], tpr[i], _ = roc_curve(pd.get_dummies(Y_test)[i], pd.get_dummies(Y_)[i])\n",
    "    roc_auc[i] = metrics.auc(fpr[i], tpr[i])\n",
    "\n",
    "# Plot of a ROC curve\n",
    "plt.figure()\n",
    "for i in range(0,3):\n",
    "    plt.plot(fpr[i], tpr[i], label='ROC curve (area = %0.2f) for {}'.format(dic[i]) % roc_auc[i])\n",
    "plt.plot([0, 1], [0, 1], 'k--')\n",
    "plt.xlim([0.0, 1.0])\n",
    "plt.ylim([0.0, 1.05])\n",
    "plt.xlabel('False Positive Rate')\n",
    "plt.ylabel('True Positive Rate')\n",
    "plt.title('ROC Curve')\n",
    "plt.legend(loc=\"lower right\")\n",
    "plt.show()"
   ]
  },
  {
   "cell_type": "markdown",
   "metadata": {},
   "source": [
    "# Mapping the 3 class problem"
   ]
  },
  {
   "cell_type": "code",
   "execution_count": 55,
   "metadata": {
    "collapsed": true
   },
   "outputs": [],
   "source": [
    "#reread in my raw data to make predictions on other data\n",
    "homevalue = pd.read_csv('Solar Data/Zip_Zhvi_Summary_AllHomes.csv')\n",
    "homevalue = homevalue[['RegionName', 'Zhvi']]\n",
    "census = pd.read_csv('scraped_from_census.csv')\n",
    "census= census[['zipcode', 'population','medianage', 'medianincome','pctownocc']]\n",
    "census_solar_home = census.merge(homevalue, left_on = 'zipcode', right_on = 'RegionName', how = 'inner')\n",
    "solar_rad = pd.read_csv('Solar_Radiation_by_zip.csv')\n",
    "solar_rad = solar_rad[solar_rad.solar_radiation !=  'error']\n",
    "data_to_predict = census_solar_home.merge(solar_rad,on = 'zipcode', how = 'inner')"
   ]
  },
  {
   "cell_type": "code",
   "execution_count": 56,
   "metadata": {
    "collapsed": true
   },
   "outputs": [],
   "source": [
    "#drop zip codes that were used in the model generation\n",
    "data_to_throw = data_to_predict[data_to_predict.zipcode.isin(data.zipcode)]\n",
    "data_to_predict = data_to_predict[~data_to_predict.zipcode.isin(data.zipcode)]\n",
    "X_2 = data_to_throw.drop(['population','RegionName', 'zipcode'], axis = 1)\n",
    "X_ = data_to_predict.drop(['population','RegionName', 'zipcode'], axis = 1)"
   ]
  },
  {
   "cell_type": "code",
   "execution_count": 57,
   "metadata": {},
   "outputs": [],
   "source": [
    "#save the predicted values\n",
    "data_to_predict['class'] = gbc.predict(X_)\n",
    "data_to_throw['class'] = gbc.predict(X_2)"
   ]
  },
  {
   "cell_type": "code",
   "execution_count": 58,
   "metadata": {
    "collapsed": true
   },
   "outputs": [],
   "source": [
    "#load all latitude and longitudes for zip codes\n",
    "zip_lats_longs = pd.read_csv('us_postal_codes.csv')\n",
    "#drop the unnessesary parts of the data\n",
    "zip_lats_longs = zip_lats_longs[['Zip Code', 'Latitude','Longitude']]\n",
    "#merge the lats and longs onto the data with the predicted values\n",
    "to_plot = data_to_predict.merge(zip_lats_longs, left_on = 'zipcode', right_on = 'Zip Code', how = 'inner')\n",
    "to_plot2 = data_to_throw.merge(zip_lats_longs, left_on = 'zipcode', right_on = 'Zip Code', how = 'inner')"
   ]
  },
  {
   "cell_type": "code",
   "execution_count": 59,
   "metadata": {
    "collapsed": true
   },
   "outputs": [],
   "source": [
    "#break up the data into 3 datasets, good, medium and bad predicted markets\n",
    "good_markets = to_plot[to_plot['class'] == 2]\n",
    "medium_markets = to_plot[to_plot['class'] == 1]\n",
    "bad_markets = to_plot[to_plot['class'] == 0]\n",
    "#center and zoom the map over the united states\n",
    "gmap = gmplot.GoogleMapPlotter(to_plot['Latitude'].mean(), to_plot['Longitude'].mean(), 4)\n",
    "#plot green dots to represent good markets\n",
    "gmap.scatter(good_markets['Latitude'], good_markets['Longitude'], '#228B22', size=4000, marker=False)\n",
    "#plot yellow dots to represent medium markets\n",
    "gmap.scatter(medium_markets['Latitude'], medium_markets['Longitude'], '#ffff00', size=4000, marker=False)\n",
    "#plot red dots to represent bad markets\n",
    "gmap.scatter(bad_markets['Latitude'], bad_markets['Longitude'], '#ff0000', size=4000, marker=False)\n",
    "#draw the mapfile\n",
    "gmap.draw('3classmarketprediction.html')"
   ]
  },
  {
   "cell_type": "code",
   "execution_count": 63,
   "metadata": {
    "collapsed": true
   },
   "outputs": [],
   "source": [
    "to_plot2 = pd.concat([to_plot, to_plot2], join = 'inner')\n",
    "#break up the data into 3 datasets, good, medium and bad predicted markets\n",
    "good_markets = to_plot2[to_plot2['class'] == 2]\n",
    "medium_markets = to_plot2[to_plot2['class'] == 1]\n",
    "bad_markets = to_plot2[to_plot2['class'] == 0]\n",
    "#center and zoom the map over the united states\n",
    "gmap = gmplot.GoogleMapPlotter(to_plot['Latitude'].mean(), to_plot['Longitude'].mean(), 4)\n",
    "#plot green dots to represent good markets\n",
    "gmap.scatter(good_markets['Latitude'], good_markets['Longitude'], '#228B22', size=4000, marker=False)\n",
    "#plot yellow dots to represent medium markets\n",
    "gmap.scatter(medium_markets['Latitude'], medium_markets['Longitude'], '#ffff00', size=4000, marker=False)\n",
    "#plot red dots to represent bad markets\n",
    "gmap.scatter(bad_markets['Latitude'], bad_markets['Longitude'], '#ff0000', size=4000, marker=False)\n",
    "#draw the mapfile\n",
    "gmap.draw('3classmarketpredictionwithtrain.html')"
   ]
  },
  {
   "cell_type": "markdown",
   "metadata": {},
   "source": [
    "# Use Case Examples"
   ]
  },
  {
   "cell_type": "markdown",
   "metadata": {},
   "source": [
    "Grand Island, NE:"
   ]
  },
  {
   "cell_type": "code",
   "execution_count": 70,
   "metadata": {},
   "outputs": [
    {
     "data": {
      "text/html": [
       "<div>\n",
       "<style>\n",
       "    .dataframe thead tr:only-child th {\n",
       "        text-align: right;\n",
       "    }\n",
       "\n",
       "    .dataframe thead th {\n",
       "        text-align: left;\n",
       "    }\n",
       "\n",
       "    .dataframe tbody tr th {\n",
       "        vertical-align: top;\n",
       "    }\n",
       "</style>\n",
       "<table border=\"1\" class=\"dataframe\">\n",
       "  <thead>\n",
       "    <tr style=\"text-align: right;\">\n",
       "      <th></th>\n",
       "      <th>zipcode</th>\n",
       "      <th>population</th>\n",
       "      <th>medianage</th>\n",
       "      <th>medianincome</th>\n",
       "      <th>pctownocc</th>\n",
       "      <th>RegionName</th>\n",
       "      <th>Zhvi</th>\n",
       "      <th>solar_radiation</th>\n",
       "      <th>class</th>\n",
       "    </tr>\n",
       "  </thead>\n",
       "  <tbody>\n",
       "    <tr>\n",
       "      <th>9398</th>\n",
       "      <td>68801</td>\n",
       "      <td>30551.0</td>\n",
       "      <td>32.9</td>\n",
       "      <td>45806.0</td>\n",
       "      <td>0.58</td>\n",
       "      <td>68801</td>\n",
       "      <td>131500</td>\n",
       "      <td>4.97</td>\n",
       "      <td>1</td>\n",
       "    </tr>\n",
       "    <tr>\n",
       "      <th>9399</th>\n",
       "      <td>68803</td>\n",
       "      <td>22838.0</td>\n",
       "      <td>40.3</td>\n",
       "      <td>51715.0</td>\n",
       "      <td>0.71</td>\n",
       "      <td>68803</td>\n",
       "      <td>165500</td>\n",
       "      <td>4.92</td>\n",
       "      <td>2</td>\n",
       "    </tr>\n",
       "  </tbody>\n",
       "</table>\n",
       "</div>"
      ],
      "text/plain": [
       "      zipcode  population  medianage  medianincome  pctownocc  RegionName  \\\n",
       "9398    68801     30551.0       32.9       45806.0       0.58       68801   \n",
       "9399    68803     22838.0       40.3       51715.0       0.71       68803   \n",
       "\n",
       "        Zhvi solar_radiation  class  \n",
       "9398  131500            4.97      1  \n",
       "9399  165500            4.92      2  "
      ]
     },
     "execution_count": 70,
     "metadata": {},
     "output_type": "execute_result"
    }
   ],
   "source": [
    "data_to_predict[data_to_predict['zipcode'].isin(['68803','68801'])]"
   ]
  },
  {
   "cell_type": "markdown",
   "metadata": {},
   "source": [
    "North Chicago, IL:"
   ]
  },
  {
   "cell_type": "code",
   "execution_count": 71,
   "metadata": {},
   "outputs": [
    {
     "data": {
      "text/html": [
       "<div>\n",
       "<style>\n",
       "    .dataframe thead tr:only-child th {\n",
       "        text-align: right;\n",
       "    }\n",
       "\n",
       "    .dataframe thead th {\n",
       "        text-align: left;\n",
       "    }\n",
       "\n",
       "    .dataframe tbody tr th {\n",
       "        vertical-align: top;\n",
       "    }\n",
       "</style>\n",
       "<table border=\"1\" class=\"dataframe\">\n",
       "  <thead>\n",
       "    <tr style=\"text-align: right;\">\n",
       "      <th></th>\n",
       "      <th>zipcode</th>\n",
       "      <th>population</th>\n",
       "      <th>medianage</th>\n",
       "      <th>medianincome</th>\n",
       "      <th>pctownocc</th>\n",
       "      <th>RegionName</th>\n",
       "      <th>Zhvi</th>\n",
       "      <th>solar_radiation</th>\n",
       "      <th>class</th>\n",
       "    </tr>\n",
       "  </thead>\n",
       "  <tbody>\n",
       "    <tr>\n",
       "      <th>8495</th>\n",
       "      <td>60051</td>\n",
       "      <td>24769.0</td>\n",
       "      <td>39.0</td>\n",
       "      <td>74715.0</td>\n",
       "      <td>0.81</td>\n",
       "      <td>60051</td>\n",
       "      <td>172000</td>\n",
       "      <td>3.75</td>\n",
       "      <td>0</td>\n",
       "    </tr>\n",
       "    <tr>\n",
       "      <th>8502</th>\n",
       "      <td>60068</td>\n",
       "      <td>37125.0</td>\n",
       "      <td>44.8</td>\n",
       "      <td>90484.0</td>\n",
       "      <td>0.85</td>\n",
       "      <td>60068</td>\n",
       "      <td>388900</td>\n",
       "      <td>3.58</td>\n",
       "      <td>1</td>\n",
       "    </tr>\n",
       "    <tr>\n",
       "      <th>8510</th>\n",
       "      <td>60081</td>\n",
       "      <td>9874.0</td>\n",
       "      <td>42.2</td>\n",
       "      <td>84799.0</td>\n",
       "      <td>0.85</td>\n",
       "      <td>60081</td>\n",
       "      <td>251900</td>\n",
       "      <td>3.77</td>\n",
       "      <td>1</td>\n",
       "    </tr>\n",
       "    <tr>\n",
       "      <th>8518</th>\n",
       "      <td>60093</td>\n",
       "      <td>19384.0</td>\n",
       "      <td>43.5</td>\n",
       "      <td>156047.0</td>\n",
       "      <td>0.92</td>\n",
       "      <td>60093</td>\n",
       "      <td>917000</td>\n",
       "      <td>3.78</td>\n",
       "      <td>2</td>\n",
       "    </tr>\n",
       "  </tbody>\n",
       "</table>\n",
       "</div>"
      ],
      "text/plain": [
       "      zipcode  population  medianage  medianincome  pctownocc  RegionName  \\\n",
       "8495    60051     24769.0       39.0       74715.0       0.81       60051   \n",
       "8502    60068     37125.0       44.8       90484.0       0.85       60068   \n",
       "8510    60081      9874.0       42.2       84799.0       0.85       60081   \n",
       "8518    60093     19384.0       43.5      156047.0       0.92       60093   \n",
       "\n",
       "        Zhvi solar_radiation  class  \n",
       "8495  172000            3.75      0  \n",
       "8502  388900            3.58      1  \n",
       "8510  251900            3.77      1  \n",
       "8518  917000            3.78      2  "
      ]
     },
     "execution_count": 71,
     "metadata": {},
     "output_type": "execute_result"
    }
   ],
   "source": [
    "data_to_predict[data_to_predict['zipcode'].isin(['60051','60068', '60081','60093'])]"
   ]
  },
  {
   "cell_type": "markdown",
   "metadata": {},
   "source": [
    "Pontiac, MI:"
   ]
  },
  {
   "cell_type": "code",
   "execution_count": 72,
   "metadata": {},
   "outputs": [
    {
     "data": {
      "text/html": [
       "<div>\n",
       "<style>\n",
       "    .dataframe thead tr:only-child th {\n",
       "        text-align: right;\n",
       "    }\n",
       "\n",
       "    .dataframe thead th {\n",
       "        text-align: left;\n",
       "    }\n",
       "\n",
       "    .dataframe tbody tr th {\n",
       "        vertical-align: top;\n",
       "    }\n",
       "</style>\n",
       "<table border=\"1\" class=\"dataframe\">\n",
       "  <thead>\n",
       "    <tr style=\"text-align: right;\">\n",
       "      <th></th>\n",
       "      <th>zipcode</th>\n",
       "      <th>population</th>\n",
       "      <th>medianage</th>\n",
       "      <th>medianincome</th>\n",
       "      <th>pctownocc</th>\n",
       "      <th>RegionName</th>\n",
       "      <th>Zhvi</th>\n",
       "      <th>solar_radiation</th>\n",
       "      <th>class</th>\n",
       "    </tr>\n",
       "  </thead>\n",
       "  <tbody>\n",
       "    <tr>\n",
       "      <th>7459</th>\n",
       "      <td>48302</td>\n",
       "      <td>15475.0</td>\n",
       "      <td>49.1</td>\n",
       "      <td>127068.0</td>\n",
       "      <td>0.89</td>\n",
       "      <td>48302</td>\n",
       "      <td>478400</td>\n",
       "      <td>3.64</td>\n",
       "      <td>2</td>\n",
       "    </tr>\n",
       "    <tr>\n",
       "      <th>7460</th>\n",
       "      <td>48304</td>\n",
       "      <td>16077.0</td>\n",
       "      <td>50.3</td>\n",
       "      <td>105830.0</td>\n",
       "      <td>0.85</td>\n",
       "      <td>48304</td>\n",
       "      <td>373500</td>\n",
       "      <td>3.64</td>\n",
       "      <td>1</td>\n",
       "    </tr>\n",
       "    <tr>\n",
       "      <th>7475</th>\n",
       "      <td>48326</td>\n",
       "      <td>20966.0</td>\n",
       "      <td>33.5</td>\n",
       "      <td>52976.0</td>\n",
       "      <td>0.51</td>\n",
       "      <td>48326</td>\n",
       "      <td>156300</td>\n",
       "      <td>3.56</td>\n",
       "      <td>1</td>\n",
       "    </tr>\n",
       "    <tr>\n",
       "      <th>7484</th>\n",
       "      <td>48341</td>\n",
       "      <td>16074.0</td>\n",
       "      <td>38.2</td>\n",
       "      <td>34139.0</td>\n",
       "      <td>0.50</td>\n",
       "      <td>48341</td>\n",
       "      <td>80200</td>\n",
       "      <td>3.56</td>\n",
       "      <td>1</td>\n",
       "    </tr>\n",
       "    <tr>\n",
       "      <th>7485</th>\n",
       "      <td>48342</td>\n",
       "      <td>16575.0</td>\n",
       "      <td>31.7</td>\n",
       "      <td>20606.0</td>\n",
       "      <td>0.42</td>\n",
       "      <td>48342</td>\n",
       "      <td>65900</td>\n",
       "      <td>3.56</td>\n",
       "      <td>0</td>\n",
       "    </tr>\n",
       "  </tbody>\n",
       "</table>\n",
       "</div>"
      ],
      "text/plain": [
       "      zipcode  population  medianage  medianincome  pctownocc  RegionName  \\\n",
       "7459    48302     15475.0       49.1      127068.0       0.89       48302   \n",
       "7460    48304     16077.0       50.3      105830.0       0.85       48304   \n",
       "7475    48326     20966.0       33.5       52976.0       0.51       48326   \n",
       "7484    48341     16074.0       38.2       34139.0       0.50       48341   \n",
       "7485    48342     16575.0       31.7       20606.0       0.42       48342   \n",
       "\n",
       "        Zhvi solar_radiation  class  \n",
       "7459  478400            3.64      2  \n",
       "7460  373500            3.64      1  \n",
       "7475  156300            3.56      1  \n",
       "7484   80200            3.56      1  \n",
       "7485   65900            3.56      0  "
      ]
     },
     "execution_count": 72,
     "metadata": {},
     "output_type": "execute_result"
    }
   ],
   "source": [
    "data_to_predict[data_to_predict['zipcode'].isin(['48302','48304', '48341','48342','48326'])]"
   ]
  },
  {
   "cell_type": "code",
   "execution_count": null,
   "metadata": {
    "collapsed": true
   },
   "outputs": [],
   "source": []
  }
 ],
 "metadata": {
  "kernelspec": {
   "display_name": "Python [conda root]",
   "language": "python",
   "name": "conda-root-py"
  },
  "language_info": {
   "codemirror_mode": {
    "name": "ipython",
    "version": 3
   },
   "file_extension": ".py",
   "mimetype": "text/x-python",
   "name": "python",
   "nbconvert_exporter": "python",
   "pygments_lexer": "ipython3",
   "version": "3.5.3"
  }
 },
 "nbformat": 4,
 "nbformat_minor": 2
}
