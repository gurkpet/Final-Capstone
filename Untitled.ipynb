{
 "cells": [
  {
   "cell_type": "code",
   "execution_count": 35,
   "metadata": {
    "collapsed": true
   },
   "outputs": [],
   "source": [
    "import pandas as pd"
   ]
  },
  {
   "cell_type": "code",
   "execution_count": 83,
   "metadata": {
    "collapsed": true
   },
   "outputs": [],
   "source": [
    "import requests\n",
    "\n",
    "url = \"http://api.datausa.io/api/?show=geo&sumlevel=place&required=owner_occupied_housing_units&year=latest\"\n",
    "\n",
    "json = requests.get(url).json()\n",
    "\n",
    "data = [dict(zip(json[\"headers\"], d)) for d in json[\"data\"]]"
   ]
  },
  {
   "cell_type": "code",
   "execution_count": 78,
   "metadata": {
    "collapsed": true
   },
   "outputs": [],
   "source": [
    "dataframe=pd.DataFrame()\n",
    "geo = []\n",
    "occupied = []\n",
    "year = []\n",
    "for line in range(len(data)):\n",
    "    geo.append(data[line]['geo'])\n",
    "    occupied.append(data[line]['owner_occupied_housing_units'])\n",
    "    year.append(data[line]['year'])\n",
    "dataframe['geo'] = geo\n",
    "dataframe['occupied'] = occupied\n",
    "dataframe['year'] = year"
   ]
  },
  {
   "cell_type": "code",
   "execution_count": 91,
   "metadata": {
    "collapsed": true
   },
   "outputs": [],
   "source": [
    "url = 'https://datausa.io/about/attributes/geo/place/1/'"
   ]
  },
  {
   "cell_type": "code",
   "execution_count": 99,
   "metadata": {},
   "outputs": [
    {
     "ename": "AttributeError",
     "evalue": "'Response' object has no attribute 'xpath'",
     "output_type": "error",
     "traceback": [
      "\u001b[0;31m---------------------------------------------------------------------------\u001b[0m",
      "\u001b[0;31mAttributeError\u001b[0m                            Traceback (most recent call last)",
      "\u001b[0;32m<ipython-input-99-f36eea38f56b>\u001b[0m in \u001b[0;36m<module>\u001b[0;34m()\u001b[0m\n\u001b[1;32m      1\u001b[0m \u001b[0mpage\u001b[0m \u001b[0;34m=\u001b[0m \u001b[0mrequests\u001b[0m\u001b[0;34m.\u001b[0m\u001b[0mget\u001b[0m\u001b[0;34m(\u001b[0m\u001b[0murl\u001b[0m\u001b[0;34m)\u001b[0m\u001b[0;34m\u001b[0m\u001b[0m\n\u001b[0;32m----> 2\u001b[0;31m \u001b[0mpage\u001b[0m\u001b[0;34m.\u001b[0m\u001b[0mxpath\u001b[0m\u001b[0;34m(\u001b[0m\u001b[0;34m)\u001b[0m\u001b[0;34m\u001b[0m\u001b[0m\n\u001b[0m",
      "\u001b[0;31mAttributeError\u001b[0m: 'Response' object has no attribute 'xpath'"
     ]
    }
   ],
   "source": [
    "page = requests.get(url)\n",
    "page.xpath()"
   ]
  },
  {
   "cell_type": "code",
   "execution_count": 18,
   "metadata": {
    "collapsed": true
   },
   "outputs": [],
   "source": [
    "def selectionsort(arr):\n",
    "    for fillslot in range(len(arr)):\n",
    "        currentslot = fillslot\n",
    "        for x in range(fillslot, len(arr)):\n",
    "            if arr[x] < arr[currentslot]:\n",
    "                currentslot = x\n",
    "        arr[currentslot], arr[fillslot] = arr[fillslot], arr[currentslot]"
   ]
  },
  {
   "cell_type": "code",
   "execution_count": 30,
   "metadata": {
    "collapsed": true
   },
   "outputs": [],
   "source": [
    "def insertionsort(arr):\n",
    "    for x in range(len(arr)):\n",
    "        position = x\n",
    "        currentval = arr[x]\n",
    "        while position > 0 and arr[position -1 ]> currentval:\n",
    "            arr[position] = arr[position -1]\n",
    "            position -= 1\n",
    "        arr[position] = currentval"
   ]
  },
  {
   "cell_type": "code",
   "execution_count": 32,
   "metadata": {
    "collapsed": true
   },
   "outputs": [],
   "source": [
    "def quicksort(arr):\n",
    "    recurse(arr, 0, len(arr)-1)\n",
    "def recurse(arr, low, high):\n",
    "    if(high - low) > 0:\n",
    "        p = part(arr, low, high)\n",
    "        recurse(arr, low, p-1)\n",
    "        recurse(arr, p+1, high)\n",
    "def part(arr, low, high):\n",
    "    wall = low\n",
    "    pivot = high\n",
    "    for x in range(low, high):\n",
    "        if arr[x] < arr[pivot]:\n",
    "            arr[x], arr[wall]= arr[wall], arr[x]\n",
    "            wall +=1\n",
    "    arr[pivot], arr[wall] = arr[wall], arr[pivot]\n",
    "    return wall"
   ]
  },
  {
   "cell_type": "code",
   "execution_count": 37,
   "metadata": {
    "collapsed": true
   },
   "outputs": [],
   "source": [
    "def isort2(arr):\n",
    "    for nums in range(len(arr)):\n",
    "        position = nums\n",
    "        currentval = arr[nums]\n",
    "        while position > 0 and currentval < arr[position -1]:\n",
    "            arr[position] = arr[position-1]\n",
    "            position -=1\n",
    "        arr[position] = currentval"
   ]
  },
  {
   "cell_type": "code",
   "execution_count": 10,
   "metadata": {
    "collapsed": true
   },
   "outputs": [],
   "source": [
    "def iS(arr):\n",
    "    for x in range(len(arr)):\n",
    "        currentval = arr[x]\n",
    "        position = x\n",
    "        while position > 0 and arr[position-1] > currentval:\n",
    "            arr[position] = arr[position-1]\n",
    "            position -=1\n",
    "        arr[position] = currentval"
   ]
  },
  {
   "cell_type": "code",
   "execution_count": 7,
   "metadata": {
    "collapsed": true
   },
   "outputs": [],
   "source": [
    "def ssrot(arr):\n",
    "    for fillslot in range(len(arr)):\n",
    "        current = fillslot\n",
    "        for x in range(fillslot, len(arr)):\n",
    "            if arr[x] < arr[current]:\n",
    "                current = x\n",
    "        arr[fillslot], arr[current] = arr[current], arr[fillslot]"
   ]
  },
  {
   "cell_type": "code",
   "execution_count": null,
   "metadata": {
    "collapsed": true
   },
   "outputs": [],
   "source": []
  },
  {
   "cell_type": "code",
   "execution_count": 1,
   "metadata": {
    "collapsed": true
   },
   "outputs": [],
   "source": [
    "def qsort(arr):\n",
    "    qwiksort(arr, 0, len(arr)-1)\n",
    "def qwiksort(arr, low, high):\n",
    "    if(high - low) > 0:\n",
    "        p = parti(arr, low, high)\n",
    "        qwiksort(arr, low, p-1)\n",
    "        qwiksort(arr, p+1, high)\n",
    "def parti(arr, low, high):\n",
    "    wall = low\n",
    "    pivot = high\n",
    "    for x in range(low, high):\n",
    "        if arr[x] < arr[pivot]:\n",
    "            arr[x], arr[wall] = arr[wall], arr[x]\n",
    "            wall +=1\n",
    "    arr[wall], arr[pivot] = arr[pivot], arr[wall]\n",
    "    return wall"
   ]
  },
  {
   "cell_type": "code",
   "execution_count": 13,
   "metadata": {
    "collapsed": true
   },
   "outputs": [],
   "source": [
    "def quickening (arr):\n",
    "    quick(arr, 0, len(arr)-1)\n",
    "def quick(arr, low, high):\n",
    "    if (high - low) > 0:\n",
    "        p = party(arr, low, high)\n",
    "        quick(arr, low, p-1)\n",
    "        quick(arr, p+1, high)\n",
    "def party(arr, low, high):\n",
    "    wall = low\n",
    "    pivot = high\n",
    "    for x in range(low, high):\n",
    "        if arr[x] < arr[pivot]:\n",
    "            arr[x], arr[wall]= arr[wall], arr[x]\n",
    "            wall += 1\n",
    "    arr[pivot], arr[wall]= arr[wall], arr[pivot]\n",
    "    return wall"
   ]
  },
  {
   "cell_type": "code",
   "execution_count": 57,
   "metadata": {},
   "outputs": [
    {
     "data": {
      "text/plain": [
       "array([0, 1, 2, 4, 6, 6, 7, 8, 8, 8])"
      ]
     },
     "execution_count": 57,
     "metadata": {},
     "output_type": "execute_result"
    }
   ],
   "source": [
    "import numpy as np\n",
    "short_list = np.random.randint(0,10, 10)\n",
    "iSort(short_list)\n",
    "short_list"
   ]
  },
  {
   "cell_type": "code",
   "execution_count": 15,
   "metadata": {
    "collapsed": true
   },
   "outputs": [],
   "source": [
    "def sSort(arr):\n",
    "    for fillslot in range(len(arr)):\n",
    "        current = fillslot\n",
    "        for x in range(fillslot, len(arr)):\n",
    "            if arr[x] < arr[current]:\n",
    "                current = x\n",
    "        arr[current], arr[fillslot] = arr[fillslot], arr[current]"
   ]
  },
  {
   "cell_type": "code",
   "execution_count": 45,
   "metadata": {
    "collapsed": true
   },
   "outputs": [],
   "source": [
    "def iSort(arr):\n",
    "    for x in range(len(arr)):\n",
    "        currentval = arr[x]\n",
    "        position = x\n",
    "        while position > 0 and currentval < arr[position-1]:\n",
    "            arr[position] = arr[position-1]\n",
    "            position -= 1\n",
    "        arr[position] = currentval"
   ]
  },
  {
   "cell_type": "code",
   "execution_count": null,
   "metadata": {
    "collapsed": true
   },
   "outputs": [],
   "source": []
  },
  {
   "cell_type": "code",
   "execution_count": null,
   "metadata": {
    "collapsed": true
   },
   "outputs": [],
   "source": []
  },
  {
   "cell_type": "code",
   "execution_count": null,
   "metadata": {
    "collapsed": true
   },
   "outputs": [],
   "source": []
  }
 ],
 "metadata": {
  "kernelspec": {
   "display_name": "Python [conda root]",
   "language": "python",
   "name": "conda-root-py"
  },
  "language_info": {
   "codemirror_mode": {
    "name": "ipython",
    "version": 3
   },
   "file_extension": ".py",
   "mimetype": "text/x-python",
   "name": "python",
   "nbconvert_exporter": "python",
   "pygments_lexer": "ipython3",
   "version": "3.5.3"
  }
 },
 "nbformat": 4,
 "nbformat_minor": 2
}
