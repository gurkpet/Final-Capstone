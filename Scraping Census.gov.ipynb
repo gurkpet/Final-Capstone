{
 "cells": [
  {
   "cell_type": "code",
   "execution_count": 45,
   "metadata": {
    "collapsed": true
   },
   "outputs": [],
   "source": [
    "from census import Census\n",
    "import pandas as pd"
   ]
  },
  {
   "cell_type": "code",
   "execution_count": 72,
   "metadata": {
    "collapsed": true
   },
   "outputs": [],
   "source": [
    "from census import Census\n",
    "#instiate a census scraping instance with the API Key\n",
    "c = Census(\"d6b7d7dccd9cd03190add3a0d913c5f2b467419e\")\n",
    "#scrape all zip codes available for:\n",
    "#B25008_001E : populiation of zip\n",
    "#B01002_001E : median age of zip\n",
    "#B25119_001E : meidan income of zip\n",
    "#B25008_002E : owners occupying residence\n",
    "data = c.acs5.zipcode(['B25008_001E','B01002_001E','B25119_001E', 'B25008_002E'], Census.ALL)"
   ]
  },
  {
   "cell_type": "code",
   "execution_count": 74,
   "metadata": {
    "collapsed": true
   },
   "outputs": [],
   "source": [
    "#lists to hold the data being scraped\n",
    "zipcode = []\n",
    "population = []\n",
    "medianage = []\n",
    "medianincome = []\n",
    "pplinownerocc = []\n",
    "#iterate through every entry in the scrape, each entry being one zip code\n",
    "for code in data:\n",
    "    #save the various data to lists\n",
    "    zipcode.append(code['zip code tabulation area'])\n",
    "    population.append(code['B25008_001E'])\n",
    "    medianage.append(code['B01002_001E'])\n",
    "    medianincome.append(code['B25119_001E'])\n",
    "    pplinownerocc.append(code['B25008_002E'])\n",
    "\n",
    "#save the lists to a dataframe\n",
    "df = pd.DataFrame()\n",
    "df['zipcode'] = zipcode\n",
    "df['population'] = population\n",
    "df['medianage'] = medianage\n",
    "df['medianincome'] = medianincome\n",
    "df['pplinownerocc'] = pplinownerocc"
   ]
  },
  {
   "cell_type": "code",
   "execution_count": 80,
   "metadata": {
    "collapsed": true
   },
   "outputs": [],
   "source": [
    "#calulate a percentage of people living in their own homes\n",
    "df['pctownocc'] = round(df.pplinownerocc/df.population, 2)"
   ]
  },
  {
   "cell_type": "code",
   "execution_count": 82,
   "metadata": {
    "collapsed": true
   },
   "outputs": [],
   "source": [
    "#drop nan values for good measure\n",
    "df.dropna(inplace = True)\n",
    "#save the scraped data\n",
    "df.to_csv('scraped_from_census.csv',index = False, header = True)"
   ]
  },
  {
   "cell_type": "code",
   "execution_count": null,
   "metadata": {
    "collapsed": true
   },
   "outputs": [],
   "source": []
  }
 ],
 "metadata": {
  "kernelspec": {
   "display_name": "Python [conda root]",
   "language": "python",
   "name": "conda-root-py"
  },
  "language_info": {
   "codemirror_mode": {
    "name": "ipython",
    "version": 3
   },
   "file_extension": ".py",
   "mimetype": "text/x-python",
   "name": "python",
   "nbconvert_exporter": "python",
   "pygments_lexer": "ipython3",
   "version": "3.5.3"
  }
 },
 "nbformat": 4,
 "nbformat_minor": 2
}
