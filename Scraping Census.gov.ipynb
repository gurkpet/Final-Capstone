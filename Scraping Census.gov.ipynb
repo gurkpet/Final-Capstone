{
 "cells": [
  {
   "cell_type": "code",
   "execution_count": 45,
   "metadata": {
    "collapsed": true
   },
   "outputs": [],
   "source": [
    "from census import Census\n",
    "import pandas as pd"
   ]
  },
  {
   "cell_type": "code",
   "execution_count": 72,
   "metadata": {
    "collapsed": true
   },
   "outputs": [],
   "source": [
    "from census import Census\n",
    "\n",
    "c = Census(\"d6b7d7dccd9cd03190add3a0d913c5f2b467419e\")\n",
    "data = c.acs5.zipcode(['B25008_001E','B01002_001E','B25119_001E', 'B25008_002E'], Census.ALL) #median household income"
   ]
  },
  {
   "cell_type": "code",
   "execution_count": 74,
   "metadata": {
    "collapsed": true
   },
   "outputs": [],
   "source": [
    "zipcode = []\n",
    "population = []\n",
    "medianage = []\n",
    "medianincome = []\n",
    "pplinownerocc = []\n",
    "for code in data:\n",
    "    zipcode.append(code['zip code tabulation area'])\n",
    "    population.append(code['B25008_001E'])\n",
    "    medianage.append(code['B01002_001E'])\n",
    "    medianincome.append(code['B25119_001E'])\n",
    "    pplinownerocc.append(code['B25008_002E'])\n",
    "df = pd.DataFrame()\n",
    "df['zipcode'] = zipcode\n",
    "df['population'] = population\n",
    "df['medianage'] = medianage\n",
    "df['medianincome'] = medianincome\n",
    "df['pplinownerocc'] = pplinownerocc"
   ]
  },
  {
   "cell_type": "code",
   "execution_count": 80,
   "metadata": {
    "collapsed": true
   },
   "outputs": [],
   "source": [
    "df['pctownocc'] = round(df.pplinownerocc/df.population, 2)"
   ]
  },
  {
   "cell_type": "code",
   "execution_count": 82,
   "metadata": {
    "collapsed": true
   },
   "outputs": [],
   "source": [
    "df.dropna(inplace = True)\n",
    "df.to_csv('scraped_from_census.csv',index = False, header = True)"
   ]
  },
  {
   "cell_type": "code",
   "execution_count": 84,
   "metadata": {},
   "outputs": [
    {
     "data": {
      "text/html": [
       "<div>\n",
       "<style>\n",
       "    .dataframe thead tr:only-child th {\n",
       "        text-align: right;\n",
       "    }\n",
       "\n",
       "    .dataframe thead th {\n",
       "        text-align: left;\n",
       "    }\n",
       "\n",
       "    .dataframe tbody tr th {\n",
       "        vertical-align: top;\n",
       "    }\n",
       "</style>\n",
       "<table border=\"1\" class=\"dataframe\">\n",
       "  <thead>\n",
       "    <tr style=\"text-align: right;\">\n",
       "      <th></th>\n",
       "      <th>zipcode</th>\n",
       "      <th>population</th>\n",
       "      <th>medianage</th>\n",
       "      <th>medianincome</th>\n",
       "      <th>pplinownerocc</th>\n",
       "      <th>pctownocc</th>\n",
       "    </tr>\n",
       "  </thead>\n",
       "  <tbody>\n",
       "    <tr>\n",
       "      <th>0</th>\n",
       "      <td>00601</td>\n",
       "      <td>17912.0</td>\n",
       "      <td>37.6</td>\n",
       "      <td>10816.0</td>\n",
       "      <td>10067.0</td>\n",
       "      <td>0.56</td>\n",
       "    </tr>\n",
       "    <tr>\n",
       "      <th>1</th>\n",
       "      <td>00602</td>\n",
       "      <td>40145.0</td>\n",
       "      <td>39.5</td>\n",
       "      <td>16079.0</td>\n",
       "      <td>31505.0</td>\n",
       "      <td>0.78</td>\n",
       "    </tr>\n",
       "    <tr>\n",
       "      <th>2</th>\n",
       "      <td>00603</td>\n",
       "      <td>50546.0</td>\n",
       "      <td>39.9</td>\n",
       "      <td>16804.0</td>\n",
       "      <td>31134.0</td>\n",
       "      <td>0.62</td>\n",
       "    </tr>\n",
       "    <tr>\n",
       "      <th>3</th>\n",
       "      <td>00606</td>\n",
       "      <td>6307.0</td>\n",
       "      <td>40.8</td>\n",
       "      <td>12512.0</td>\n",
       "      <td>4492.0</td>\n",
       "      <td>0.71</td>\n",
       "    </tr>\n",
       "    <tr>\n",
       "      <th>4</th>\n",
       "      <td>00610</td>\n",
       "      <td>28210.0</td>\n",
       "      <td>40.2</td>\n",
       "      <td>17475.0</td>\n",
       "      <td>21524.0</td>\n",
       "      <td>0.76</td>\n",
       "    </tr>\n",
       "  </tbody>\n",
       "</table>\n",
       "</div>"
      ],
      "text/plain": [
       "  zipcode  population  medianage  medianincome  pplinownerocc  pctownocc\n",
       "0   00601     17912.0       37.6       10816.0        10067.0       0.56\n",
       "1   00602     40145.0       39.5       16079.0        31505.0       0.78\n",
       "2   00603     50546.0       39.9       16804.0        31134.0       0.62\n",
       "3   00606      6307.0       40.8       12512.0         4492.0       0.71\n",
       "4   00610     28210.0       40.2       17475.0        21524.0       0.76"
      ]
     },
     "execution_count": 84,
     "metadata": {},
     "output_type": "execute_result"
    }
   ],
   "source": [
    "df.head()"
   ]
  },
  {
   "cell_type": "code",
   "execution_count": null,
   "metadata": {
    "collapsed": true
   },
   "outputs": [],
   "source": []
  }
 ],
 "metadata": {
  "kernelspec": {
   "display_name": "Python [conda root]",
   "language": "python",
   "name": "conda-root-py"
  },
  "language_info": {
   "codemirror_mode": {
    "name": "ipython",
    "version": 3
   },
   "file_extension": ".py",
   "mimetype": "text/x-python",
   "name": "python",
   "nbconvert_exporter": "python",
   "pygments_lexer": "ipython3",
   "version": "3.5.3"
  }
 },
 "nbformat": 4,
 "nbformat_minor": 2
}
